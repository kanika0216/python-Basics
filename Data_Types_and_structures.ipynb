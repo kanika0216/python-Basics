{
  "nbformat": 4,
  "nbformat_minor": 0,
  "metadata": {
    "colab": {
      "provenance": [],
      "authorship_tag": "ABX9TyOOF7Aa6EkSvoO4oiKrdOgu",
      "include_colab_link": true
    },
    "kernelspec": {
      "name": "python3",
      "display_name": "Python 3"
    },
    "language_info": {
      "name": "python"
    }
  },
  "cells": [
    {
      "cell_type": "markdown",
      "metadata": {
        "id": "view-in-github",
        "colab_type": "text"
      },
      "source": [
        "<a href=\"https://colab.research.google.com/github/kanika0216/python-Basics/blob/main/Data_Types_and_structures.ipynb\" target=\"_parent\"><img src=\"https://colab.research.google.com/assets/colab-badge.svg\" alt=\"Open In Colab\"/></a>"
      ]
    },
    {
      "cell_type": "markdown",
      "source": [
        "                                     ***THEORY***"
      ],
      "metadata": {
        "id": "EjIwzOWcmNad"
      }
    },
    {
      "cell_type": "markdown",
      "source": [
        "1. What are data structures, and why are they important?\n",
        "-Data structures are organized ways to store, manage, and retrieve data efficiently, such as arrays, lists, stacks, queues, trees, and graphs.\n",
        "\n",
        "They are important because they enable efficient data processing, optimize memory usage, and improve the performance of algorithms by providing the right tools for solving specific problems.\n"
      ],
      "metadata": {
        "id": "heRQgvaTmVeA"
      }
    },
    {
      "cell_type": "markdown",
      "source": [
        "2. Explain the difference between mutable and immutable data types with examples?\n",
        "- Mutable data types can be changed after they are created, meaning their content can be modified without changing their identity. Example - list\n",
        "\n",
        "Immutable data types, on the other hand, cannot be changed after creation. Any operation that seems to modify them actually creates a new object.Example- tuples\n"
      ],
      "metadata": {
        "id": "jVeTtfZbmVgH"
      }
    },
    {
      "cell_type": "markdown",
      "source": [
        "3. What are the main differences between lists and tuples in Python?\n",
        "- Main differnece between lists and tuples :\n",
        "\n",
        "Mutability: Lists are mutable (modifiable), while tuples are immutable (cannot be changed).\n",
        "\n",
        "Syntax: Lists use [], tuples use ().\n",
        "\n"
      ],
      "metadata": {
        "id": "R35ug05amVi1"
      }
    },
    {
      "cell_type": "markdown",
      "source": [
        "4. Describe how dictionaries store data.\n",
        "- A dictionary in Python stores data as key-value pairs using a hash table under the hood. Each key is hashed to generate a unique index for fast retrieval.\n",
        "\n",
        "\n"
      ],
      "metadata": {
        "id": "brMNrSHrmVlP"
      }
    },
    {
      "cell_type": "markdown",
      "source": [
        "5. Why might you use a set instead of a list in Python?\n",
        "- We might use a set instead of list because of its:\n",
        "a) Uniqueness: Ensures all elements are unique.\n",
        "b) Faster Lookups: Membership checks are faster.\n",
        "c) Mathematical Operations: Supports union, intersection, and difference.\n",
        "d)Order Doesn't Matter: Ideal when order is unimportant.\n",
        "\n",
        "\n",
        "\n",
        "\n",
        "\n"
      ],
      "metadata": {
        "id": "NKqV53LfmVnW"
      }
    },
    {
      "cell_type": "markdown",
      "source": [
        "6. What is a string in Python, and how is it different from a list?\n",
        "\n",
        "- A string in Python is a sequence of characters enclosed in quotes (e.g., \"hello\").\n",
        "\n",
        "Differences from a List:Data Type: Strings store characters, while lists can store elements of any data type.\n",
        "Mutability: Strings are immutable, whereas lists are mutable.\n",
        "Operations: Strings support text-specific methods (e.g., .upper()), while lists support general operations like adding or removing items.\n",
        "Element Type: Strings always consist of characters, while lists can mix types.\n"
      ],
      "metadata": {
        "id": "ssGLjBxNmVpT"
      }
    },
    {
      "cell_type": "markdown",
      "source": [
        "7. How do tuples ensure data integrity in Python?\n",
        "\n",
        "- Tuples ensure data integrity by being immutable, meaning their contents cannot be modified after creation. This prevents accidental changes, allows them to be used as dictionary keys or set elements, and ensures consistent, unchangeable data."
      ],
      "metadata": {
        "id": "OeiLkUItmVrY"
      }
    },
    {
      "cell_type": "markdown",
      "source": [
        "8. What is a hash table, and how does it relate to dictionaries in Python?\n",
        "\n",
        "- A hash table is a data structure that stores data in key-value pairs, using a hash function to map each key to a unique index where its value is stored.\n",
        "\n",
        "In Python dictionaries, a hash table is used internally to provide fast lookups, insertions, and deletions by hashing the keys. This allows for O(1) average time complexity for these operations. The key's hash determines where the corresponding value is stored."
      ],
      "metadata": {
        "id": "dbUy1Ne3mVuk"
      }
    },
    {
      "cell_type": "markdown",
      "source": [
        "9. Can lists contain different data types in Python?\n",
        "\n",
        "- Yes, lists in Python can contain elements of different data types, such as integers, strings, floats, or even other lists.\n",
        "\n",
        "Example:\n",
        "my_list = [1, \"hello\", 3.14, [2, 3]]\n",
        "\n",
        "\n",
        "\n",
        "\n",
        "\n"
      ],
      "metadata": {
        "id": "c3t_0WF_raQY"
      }
    },
    {
      "cell_type": "markdown",
      "source": [
        "10. Explain why strings are immutable in Python.\n",
        "\n",
        "- Strings are immutable in Python to ensure data integrity, memory efficiency, and performance. Since strings are often used in many places, making them immutable allows for safe sharing of string data without the risk of accidental modification, and it enables Python to optimize memory usage by reusing the same string object when needed.\n",
        "\n",
        "\n",
        "\n",
        "\n",
        "\n",
        "\n",
        "\n"
      ],
      "metadata": {
        "id": "LMDBqItoraSn"
      }
    },
    {
      "cell_type": "markdown",
      "source": [
        "11. What advantages do dictionaries offer over lists for certain tasks?\n",
        "\n",
        "- Dictionaries offer several advantages over lists for certain tasks:\n",
        "\n",
        "Fast lookups: Dictionaries allow for O(1) average time complexity for accessing values by keys, while lists require O(n) to search through elements.\n",
        "\n",
        "Key-value pairing: Dictionaries store data as key-value pairs, which is useful for mapping relationships or when the data needs to be accessed by a specific identifier.\n",
        "\n",
        "Unordered: Dictionaries are more flexible in terms of adding or removing elements based on keys, whereas lists are more suited for ordered collections.\n",
        "\n",
        "Prevention of duplicates: Keys in dictionaries are unique, automatically preventing duplicates, while lists can have multiple occurrences of the same value.\n"
      ],
      "metadata": {
        "id": "F4fcjLYOraUx"
      }
    },
    {
      "cell_type": "markdown",
      "source": [
        "12. Describe a scenario where using a tuple would be preferable over a list.\n",
        "\n",
        "- A tuple is preferable over a list when you need an immutable collection of items. For example, storing the RGB values of a color\n"
      ],
      "metadata": {
        "id": "XriP8vJlraWT"
      }
    },
    {
      "cell_type": "markdown",
      "source": [
        "13. How do sets handle duplicate values in Python?\n",
        "\n",
        "- In Python, sets automatically remove duplicate values. When you add an item to a set, it only keeps unique elements. If you try to add a duplicate, it will be ignored.\n",
        "\n",
        "\n",
        "\n"
      ],
      "metadata": {
        "id": "sWaqerRhraZj"
      }
    },
    {
      "cell_type": "markdown",
      "source": [
        "14. How does the “in” keyword work differently for lists and dictionaries?\n",
        "\n",
        "\n",
        "\n",
        "*   For lists, the in keyword checks if a specific value exists in the list.\n",
        "*   For dictionaries, the in keyword checks if a key exists in the dictionary, not the value.\n",
        "\n",
        "\n",
        "\n",
        "\n"
      ],
      "metadata": {
        "id": "M1gDO4TEtbX1"
      }
    },
    {
      "cell_type": "markdown",
      "source": [
        "15. Can you modify the elements of a tuple? Explain why or why not?\n",
        "\n",
        "- No, you cannot modify the elements of a tuple because tuples are immutable. Once a tuple is created, its elements cannot be changed, added, or removed. This immutability ensures that the data remains constant and safe from accidental modification.\n"
      ],
      "metadata": {
        "id": "ozxzEh9jtbZ-"
      }
    },
    {
      "cell_type": "markdown",
      "source": [
        "16. What is a nested dictionary, and give an example of its use case.\n",
        "\n",
        "-A nested dictionary is a dictionary where the values are themselves dictionaries. It allows you to store complex, hierarchical data structures.\n",
        "\n",
        "Example use case: Storing information about multiple employees in an organization, where each employee has a dictionary of personal details.\n"
      ],
      "metadata": {
        "id": "FWBnvmeXuURE"
      }
    },
    {
      "cell_type": "markdown",
      "source": [
        "17. Describe the time complexity of accessing elements in a dictionary.\n",
        "\n",
        "- The time complexity of accessing elements in a dictionary is O(1) on average. This means that retrieving a value by its key is done in constant time, regardless of the size of the dictionary, due to the underlying hash table structure. However, in rare cases (e.g., hash collisions), the time complexity could be higher, but it is generally considered O(1).\n",
        "\n",
        "\n",
        "\n",
        "\n",
        "\n",
        "\n",
        "\n"
      ],
      "metadata": {
        "id": "9sa5Ef2Otbjc"
      }
    },
    {
      "cell_type": "markdown",
      "source": [
        "18. In what situations are lists preferred over dictionaries?\n",
        "\n",
        "- Lists are preferred over dictionaries in situations where:\n",
        "\n",
        "Order matters: Lists maintain the order of elements, while dictionaries do not.\n",
        "Index-based access: If you need to access elements by a specific index rather than a key.\n",
        "When storing simple collections: Lists are better for ordered, homogenous data where key-value mapping is unnecessary, like a sequence of items.\n",
        "\n"
      ],
      "metadata": {
        "id": "EcaufDuatbmD"
      }
    },
    {
      "cell_type": "markdown",
      "source": [
        "19. Why are dictionaries considered unordered, and how does that affect data retrieval?\n",
        "\n",
        "-Dictionaries are considered unordered because, prior to Python 3.7, the order of key-value pairs is not guaranteed. Even in Python 3.7 and later, dictionaries maintain insertion order, but they are still conceptually unordered since the primary focus is on key-value mapping, not order.\n",
        "\n",
        "This affects data retrieval because, unlike lists, the order of elements isn't predictable unless you specifically sort or iterate through the dictionary. However, retrieving data by key remains fast (O(1) average time complexity).\n",
        "\n",
        "\n",
        "\n",
        "\n",
        "\n",
        "\n",
        "\n"
      ],
      "metadata": {
        "id": "ggJ-X5p9tboY"
      }
    },
    {
      "cell_type": "markdown",
      "source": [
        "20. Explain the difference between a list and a dictionary in terms of data retrieval.\n",
        "\n",
        "- The main difference between a list and a dictionary in terms of data retrieval is:\n",
        "\n",
        "a) List: Data is retrieved by its index (position), which is an integer.\n",
        "Dictionary: Data is retrieved by its key, which can be of various data types (e.g., strings, integers).\n",
        "\n",
        "b) In short, lists use numeric indices, while dictionaries use unique keys to access values.\n",
        "\n",
        "\n",
        "\n",
        "\n",
        "\n",
        "\n",
        "\n"
      ],
      "metadata": {
        "id": "REZV8mrFwr4x"
      }
    },
    {
      "cell_type": "markdown",
      "source": [
        "          ***PRACTICAL***"
      ],
      "metadata": {
        "id": "y3Fe4ncFxJ-l"
      }
    },
    {
      "cell_type": "markdown",
      "source": [
        "1. Write a code to create a string with your name and print it.\n"
      ],
      "metadata": {
        "id": "wRp5U3r-xW-H"
      }
    },
    {
      "cell_type": "code",
      "source": [
        "name = \"ChatGPT\"\n",
        "print(name)\n"
      ],
      "metadata": {
        "colab": {
          "base_uri": "https://localhost:8080/"
        },
        "id": "6SyI4vdbxR2k",
        "outputId": "bcc21e37-62df-4188-cd8c-030471acd998"
      },
      "execution_count": null,
      "outputs": [
        {
          "output_type": "stream",
          "name": "stdout",
          "text": [
            "ChatGPT\n"
          ]
        }
      ]
    },
    {
      "cell_type": "markdown",
      "source": [
        "2. Write a code to find the length of the string \"Hello World\".\n"
      ],
      "metadata": {
        "id": "LiGLxn1lxc3J"
      }
    },
    {
      "cell_type": "code",
      "source": [
        "text = \"Hello World\"\n",
        "length = len(text)\n",
        "print(length)"
      ],
      "metadata": {
        "id": "6QuV1hr9xSDm",
        "colab": {
          "base_uri": "https://localhost:8080/"
        },
        "outputId": "f05fce2d-a9b9-4085-be35-d8b382b5d429"
      },
      "execution_count": null,
      "outputs": [
        {
          "output_type": "stream",
          "name": "stdout",
          "text": [
            "11\n"
          ]
        }
      ]
    },
    {
      "cell_type": "markdown",
      "source": [
        "3. Write a code to slice the first 3 characters from the string \"Python Programming\".\n"
      ],
      "metadata": {
        "id": "V6KDH0LcyoI5"
      }
    },
    {
      "cell_type": "code",
      "source": [
        "text = \"Python Programming\"\n",
        "sliced_text = text[:3]\n",
        "print(sliced_text)\n"
      ],
      "metadata": {
        "id": "1yS2U_fixSN4",
        "colab": {
          "base_uri": "https://localhost:8080/"
        },
        "outputId": "d3c8f3da-c800-49a0-9251-84c34a08c97b"
      },
      "execution_count": null,
      "outputs": [
        {
          "output_type": "stream",
          "name": "stdout",
          "text": [
            "Pyt\n"
          ]
        }
      ]
    },
    {
      "cell_type": "markdown",
      "source": [
        "4. Write a code to convert the string \"hello\" to uppercase.\n"
      ],
      "metadata": {
        "id": "EZUiZIPLzJmJ"
      }
    },
    {
      "cell_type": "code",
      "source": [
        "text = \"hello\"\n",
        "uppercase_text = text.upper()\n",
        "print(uppercase_text)\n"
      ],
      "metadata": {
        "id": "veJiIHU1xSRS",
        "colab": {
          "base_uri": "https://localhost:8080/"
        },
        "outputId": "b709078c-b44d-4352-cf24-4354271a32f6"
      },
      "execution_count": null,
      "outputs": [
        {
          "output_type": "stream",
          "name": "stdout",
          "text": [
            "HELLO\n"
          ]
        }
      ]
    },
    {
      "cell_type": "markdown",
      "source": [
        "5. Write a code to replace the word \"apple\" with \"orange\" in the string \"I like apple\".\n"
      ],
      "metadata": {
        "id": "lKY80swDzcKY"
      }
    },
    {
      "cell_type": "code",
      "source": [
        "text = \"My name is kanika\"\n",
        "modified_text = text.replace(\"kanika\", \"kanak\")\n",
        "print(modified_text)\n"
      ],
      "metadata": {
        "colab": {
          "base_uri": "https://localhost:8080/"
        },
        "id": "NN-1BxYezbNy",
        "outputId": "cea3fbe2-fc6c-4283-e5af-64be4d770763"
      },
      "execution_count": null,
      "outputs": [
        {
          "output_type": "stream",
          "name": "stdout",
          "text": [
            "My name is kanak\n"
          ]
        }
      ]
    },
    {
      "cell_type": "markdown",
      "source": [
        "6. Write a code to create a list with numbers 1 to 5 and print it.\n"
      ],
      "metadata": {
        "id": "IVEW2T9J0X9I"
      }
    },
    {
      "cell_type": "code",
      "source": [
        "numbers = [1, 2, 3, 4, 5]\n",
        "print(numbers)\n"
      ],
      "metadata": {
        "id": "NJOqanCYxSol",
        "colab": {
          "base_uri": "https://localhost:8080/"
        },
        "outputId": "f4285f3d-125b-44d4-d18a-ae902d6174a3"
      },
      "execution_count": null,
      "outputs": [
        {
          "output_type": "stream",
          "name": "stdout",
          "text": [
            "[1, 2, 3, 4, 5]\n"
          ]
        }
      ]
    },
    {
      "cell_type": "markdown",
      "source": [
        "7. Write a code to append the number 10 to the list [1, 2, 3, 4].\n"
      ],
      "metadata": {
        "id": "02fgUMlw6tL1"
      }
    },
    {
      "cell_type": "code",
      "source": [
        "numbers = [1, 2, 3, 4]\n",
        "numbers.append(10)\n",
        "print(numbers)\n"
      ],
      "metadata": {
        "id": "G0kR2cuKxSxt",
        "colab": {
          "base_uri": "https://localhost:8080/"
        },
        "outputId": "57003b65-e16e-4f63-e444-0b92d7127b82"
      },
      "execution_count": null,
      "outputs": [
        {
          "output_type": "stream",
          "name": "stdout",
          "text": [
            "[1, 2, 3, 4, 10]\n"
          ]
        }
      ]
    },
    {
      "cell_type": "markdown",
      "source": [
        "8. Write a code to remove the number 3 from the list [1, 2, 3, 4, 5].\n"
      ],
      "metadata": {
        "id": "d2yTXtgy7JkA"
      }
    },
    {
      "cell_type": "code",
      "source": [
        "numbers = [1, 2, 3, 4, 5]\n",
        "numbers.remove(3)\n",
        "print(numbers)\n"
      ],
      "metadata": {
        "id": "zYSuir1txS0x",
        "colab": {
          "base_uri": "https://localhost:8080/"
        },
        "outputId": "3718294c-8b55-41e7-d2a4-bc06b9a257ee"
      },
      "execution_count": 8,
      "outputs": [
        {
          "output_type": "stream",
          "name": "stdout",
          "text": [
            "[1, 2, 4, 5]\n"
          ]
        }
      ]
    },
    {
      "cell_type": "markdown",
      "source": [
        "9. Write a code to access the second element in the list ['a', 'b', 'c', 'd'].\n"
      ],
      "metadata": {
        "id": "bIZ5zkPB7naR"
      }
    },
    {
      "cell_type": "code",
      "source": [
        "letters = ['a', 'b', 'c', 'd']\n",
        "second_element = letters[1]\n",
        "print(second_element)\n"
      ],
      "metadata": {
        "id": "unCZdVxmxS3t",
        "colab": {
          "base_uri": "https://localhost:8080/"
        },
        "outputId": "9ded1846-f281-4a9e-eaee-d7b129e326fa"
      },
      "execution_count": 9,
      "outputs": [
        {
          "output_type": "stream",
          "name": "stdout",
          "text": [
            "b\n"
          ]
        }
      ]
    },
    {
      "cell_type": "markdown",
      "source": [
        "10. Write a code to reverse the list [10, 20, 30, 40, 50]."
      ],
      "metadata": {
        "id": "AMCWqhuM7_X6"
      }
    },
    {
      "cell_type": "code",
      "source": [
        "numbers = [10, 20, 30, 40, 50]\n",
        "numbers.reverse()\n",
        "print(numbers)\n"
      ],
      "metadata": {
        "id": "OVIiEvB9xS55",
        "colab": {
          "base_uri": "https://localhost:8080/"
        },
        "outputId": "cc72b964-e17a-48da-c5ba-ca26ac7ebe01"
      },
      "execution_count": 10,
      "outputs": [
        {
          "output_type": "stream",
          "name": "stdout",
          "text": [
            "[50, 40, 30, 20, 10]\n"
          ]
        }
      ]
    },
    {
      "cell_type": "markdown",
      "source": [
        "11. Write a code to create a tuple with the elements 10, 20, 30 and print it."
      ],
      "metadata": {
        "id": "t3j8R9EK8U_A"
      }
    },
    {
      "cell_type": "code",
      "source": [
        "my_tuple = (10, 20, 30)\n",
        "print(my_tuple)\n"
      ],
      "metadata": {
        "id": "kPVJsZeXxS9k",
        "colab": {
          "base_uri": "https://localhost:8080/"
        },
        "outputId": "5ec22dd2-3730-4581-97d4-0225befb3de9"
      },
      "execution_count": 11,
      "outputs": [
        {
          "output_type": "stream",
          "name": "stdout",
          "text": [
            "(10, 20, 30)\n"
          ]
        }
      ]
    },
    {
      "cell_type": "markdown",
      "source": [
        "12. Write a code to *access* the first element of the tuple ('apple', 'banana', 'cherry')."
      ],
      "metadata": {
        "id": "6FHd6cTm8n_h"
      }
    },
    {
      "cell_type": "code",
      "source": [
        "\n",
        "fruits = ('apple', 'banana', 'cherry')\n",
        "first_element = fruits[0]\n",
        "print(first_element)"
      ],
      "metadata": {
        "id": "ZRFawPUaxTAR",
        "colab": {
          "base_uri": "https://localhost:8080/"
        },
        "outputId": "a5376ce7-75fe-44d2-ec74-b668336fcb5c"
      },
      "execution_count": 12,
      "outputs": [
        {
          "output_type": "stream",
          "name": "stdout",
          "text": [
            "apple\n"
          ]
        }
      ]
    },
    {
      "cell_type": "markdown",
      "source": [
        "13. Write a code to count how many times the number 2 appears in the tuple (1, 2, 3, 2, 4, 2)."
      ],
      "metadata": {
        "id": "43xzuPvk9JbL"
      }
    },
    {
      "cell_type": "code",
      "source": [
        "numbers = (1, 2, 3, 2, 4, 2)\n",
        "count_of_2 = numbers.count(2)\n",
        "print(count_of_2)\n"
      ],
      "metadata": {
        "id": "B8WRJsrnxTF7",
        "colab": {
          "base_uri": "https://localhost:8080/"
        },
        "outputId": "ed873891-d12b-4c55-b545-9e7cf4645c77"
      },
      "execution_count": 13,
      "outputs": [
        {
          "output_type": "stream",
          "name": "stdout",
          "text": [
            "3\n"
          ]
        }
      ]
    },
    {
      "cell_type": "markdown",
      "source": [
        "14. Write a code to find the index of the element \"cat\" in the tuple ('dog', 'cat', 'rabbit')."
      ],
      "metadata": {
        "id": "454cYEP_9nbS"
      }
    },
    {
      "cell_type": "code",
      "source": [
        "animals = ('dog', 'cat', 'rabbit')\n",
        "index_of_cat = animals.index('cat')\n",
        "print(index_of_cat)\n"
      ],
      "metadata": {
        "id": "sdgvSN2DxTO0",
        "colab": {
          "base_uri": "https://localhost:8080/"
        },
        "outputId": "7a7d5478-9ced-442a-f2d8-355f59249918"
      },
      "execution_count": 14,
      "outputs": [
        {
          "output_type": "stream",
          "name": "stdout",
          "text": [
            "1\n"
          ]
        }
      ]
    },
    {
      "cell_type": "markdown",
      "source": [
        "15. Write a code to check if the element \"banana\" is in the tuple ('apple', 'orange', 'banana')."
      ],
      "metadata": {
        "id": "NDOLslWL_D36"
      }
    },
    {
      "cell_type": "code",
      "source": [
        "animals = ('dog', 'cat', 'rabbit')\n",
        "index_of_cat = animals.index('cat')\n",
        "print(index_of_cat)\n"
      ],
      "metadata": {
        "id": "L6H_VeER-OUE"
      },
      "execution_count": null,
      "outputs": []
    },
    {
      "cell_type": "markdown",
      "source": [
        "16. Write a code to create a set with the elements 1, 2, 3, 4, 5 and print it."
      ],
      "metadata": {
        "id": "H5jRN0JzDPrW"
      }
    },
    {
      "cell_type": "code",
      "source": [
        "\n",
        "my_set = {1, 2, 3, 4, 5}\n",
        "print(my_set)\n"
      ],
      "metadata": {
        "colab": {
          "base_uri": "https://localhost:8080/"
        },
        "id": "CffpVZ_r_C3P",
        "outputId": "929d0c0a-77c5-4fe8-aa9d-911c5656c98d"
      },
      "execution_count": 15,
      "outputs": [
        {
          "output_type": "stream",
          "name": "stdout",
          "text": [
            "{1, 2, 3, 4, 5}\n"
          ]
        }
      ]
    },
    {
      "cell_type": "markdown",
      "source": [
        "17. Write a code to add the element 6 to the set {1, 2, 3, 4}."
      ],
      "metadata": {
        "id": "o0ruQYUEDklM"
      }
    },
    {
      "cell_type": "code",
      "source": [
        "\n",
        "my_set = {1, 2, 3, 4}\n",
        "my_set.add(6)\n",
        "print(my_set)"
      ],
      "metadata": {
        "colab": {
          "base_uri": "https://localhost:8080/"
        },
        "id": "x4vZhqdz98jv",
        "outputId": "bec0be85-3a92-42ab-8937-1561548b2b86"
      },
      "execution_count": 16,
      "outputs": [
        {
          "output_type": "stream",
          "name": "stdout",
          "text": [
            "{1, 2, 3, 4, 6}\n"
          ]
        }
      ]
    },
    {
      "cell_type": "markdown",
      "source": [
        "18. Write a code to create a tuple with the elements 10, 20, 30 and print it."
      ],
      "metadata": {
        "id": "WY5CGfPwD_nM"
      }
    },
    {
      "cell_type": "code",
      "source": [
        "\n",
        "my_tuple = (10, 20, 30)\n",
        "print(my_tuple)\n"
      ],
      "metadata": {
        "colab": {
          "base_uri": "https://localhost:8080/"
        },
        "id": "oYfNbBlBECI_",
        "outputId": "09f5d198-70c7-4a30-a399-2210de308263"
      },
      "execution_count": 17,
      "outputs": [
        {
          "output_type": "stream",
          "name": "stdout",
          "text": [
            "(10, 20, 30)\n"
          ]
        }
      ]
    },
    {
      "cell_type": "markdown",
      "source": [
        "19. Write a code to access the first element of the tuple ('apple', 'banana', 'cherry')."
      ],
      "metadata": {
        "id": "jdbHzcfaEAz6"
      }
    },
    {
      "cell_type": "code",
      "source": [
        "first_element = fruits[0]\n",
        "print(first_element)"
      ],
      "metadata": {
        "colab": {
          "base_uri": "https://localhost:8080/"
        },
        "id": "7dIqxDovD4sc",
        "outputId": "0441320b-0b94-4252-ef5a-c781eb4a1e87"
      },
      "execution_count": 18,
      "outputs": [
        {
          "output_type": "stream",
          "name": "stdout",
          "text": [
            "apple\n"
          ]
        }
      ]
    },
    {
      "cell_type": "markdown",
      "source": [
        "20. Write a code to count how many times the number 2 appears in the tuple (1, 2, 3, 2, 4, 2)."
      ],
      "metadata": {
        "id": "yuN91O3oEooy"
      }
    },
    {
      "cell_type": "code",
      "source": [
        "numbers = (1, 2, 3, 2, 4, 2)\n",
        "count_of_2 = numbers.count(2)\n",
        "print(count_of_2)"
      ],
      "metadata": {
        "id": "jEkcYnAzEqIm"
      },
      "execution_count": null,
      "outputs": []
    },
    {
      "cell_type": "markdown",
      "source": [
        "21. Write a code to find the index of the element \"cat\" in the tuple ('dog', 'cat', 'rabbit')."
      ],
      "metadata": {
        "id": "daiaORwPE5c5"
      }
    },
    {
      "cell_type": "code",
      "source": [
        "animals = ('dog', 'cat', 'rabbit')\n",
        "index_of_cat = animals.index('cat')\n",
        "print(index_of_cat)\n"
      ],
      "metadata": {
        "colab": {
          "base_uri": "https://localhost:8080/"
        },
        "id": "yX9IA8zQE9SY",
        "outputId": "cffb4f3c-4b47-4ba5-e433-0eae460d338b"
      },
      "execution_count": 19,
      "outputs": [
        {
          "output_type": "stream",
          "name": "stdout",
          "text": [
            "1\n"
          ]
        }
      ]
    },
    {
      "cell_type": "markdown",
      "source": [
        "22. Write a code to check if the element \"banana\" is in the tuple ('apple', 'orange', 'banana')."
      ],
      "metadata": {
        "id": "KQULxoZQFLGZ"
      }
    },
    {
      "cell_type": "code",
      "source": [
        "fruits = ('apple', 'orange', 'banana')\n",
        "if 'banana' in fruits:\n",
        "    print(\"Banana is in the tuple.\")\n",
        "else:\n",
        "    print(\"Banana is not in the tuple.\")\n"
      ],
      "metadata": {
        "colab": {
          "base_uri": "https://localhost:8080/"
        },
        "id": "t4RjEDoAFLWB",
        "outputId": "e612e950-b770-4a3f-bbf7-015cc4e2e7a9"
      },
      "execution_count": 20,
      "outputs": [
        {
          "output_type": "stream",
          "name": "stdout",
          "text": [
            "Banana is in the tuple.\n"
          ]
        }
      ]
    },
    {
      "cell_type": "markdown",
      "source": [
        "23. Write a code to create a set with the elements 1, 2, 3, 4, 5 and print it.\n",
        "\n"
      ],
      "metadata": {
        "id": "Gk0ASk9_FyLI"
      }
    },
    {
      "cell_type": "code",
      "source": [
        "my_set = {1, 2, 3, 4, 5}\n",
        "print(my_set)"
      ],
      "metadata": {
        "colab": {
          "base_uri": "https://localhost:8080/"
        },
        "id": "rus1KRvYFy5I",
        "outputId": "3ccdde3e-d91f-4bea-b0bb-0efcd59ee397"
      },
      "execution_count": 21,
      "outputs": [
        {
          "output_type": "stream",
          "name": "stdout",
          "text": [
            "{1, 2, 3, 4, 5}\n"
          ]
        }
      ]
    },
    {
      "cell_type": "markdown",
      "source": [
        "24. Write a code to add the element 6 to the set {1, 2, 3, 4}."
      ],
      "metadata": {
        "id": "GNB38n44FzRa"
      }
    },
    {
      "cell_type": "code",
      "source": [
        "my_set = {1, 2, 3, 4}\n",
        "my_set.add(6)\n",
        "print(my_set)\n"
      ],
      "metadata": {
        "colab": {
          "base_uri": "https://localhost:8080/"
        },
        "id": "6ElczM9xFL3j",
        "outputId": "a063b67f-14dc-4b56-cd07-51808125db59"
      },
      "execution_count": 22,
      "outputs": [
        {
          "output_type": "stream",
          "name": "stdout",
          "text": [
            "{1, 2, 3, 4, 6}\n"
          ]
        }
      ]
    }
  ]
}