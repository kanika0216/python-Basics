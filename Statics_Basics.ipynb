{
  "nbformat": 4,
  "nbformat_minor": 0,
  "metadata": {
    "colab": {
      "provenance": [],
      "authorship_tag": "ABX9TyMc/RdyqxjF3GhLtZJdsp7y",
      "include_colab_link": true
    },
    "kernelspec": {
      "name": "python3",
      "display_name": "Python 3"
    },
    "language_info": {
      "name": "python"
    }
  },
  "cells": [
    {
      "cell_type": "markdown",
      "metadata": {
        "id": "view-in-github",
        "colab_type": "text"
      },
      "source": [
        "<a href=\"https://colab.research.google.com/github/kanika0216/python-Basics/blob/main/Statics_Basics.ipynb\" target=\"_parent\"><img src=\"https://colab.research.google.com/assets/colab-badge.svg\" alt=\"Open In Colab\"/></a>"
      ]
    },
    {
      "cell_type": "markdown",
      "source": [
        "1. Explain the different types of data (qualitative and quantitative) and provide examples of each. Discuss\n",
        "nominal, ordinal, interval, and ratio scales.\n",
        "\n",
        "- Data Types:\n",
        "Qualitative (Categorical): Non-numerical, e.g., colors, names, types of cuisine.\n",
        "\n",
        "Quantitative (Numerical): Numerical, e.g., height, salary, number of cars.\n",
        "\n",
        "Scales of Measurement:\n",
        "Nominal: Categories without order (e.g., cities, blood groups).\n",
        "\n",
        "Ordinal: Categories with order but no measurable difference (e.g., movie ratings, qualifications).\n",
        "\n",
        "Interval: Measurable differences, no true zero (e.g., temperature in Celsius, years).\n",
        "\n",
        "Ratio: Measurable, with a true zero (e.g., weight, height, age)."
      ],
      "metadata": {
        "id": "scQVQufpTO4z"
      }
    },
    {
      "cell_type": "markdown",
      "source": [
        "2. What are the measures of central tendency, and when should you use each? Discuss the mean, median,and mode with examples and situations where each is appropriate.\n",
        "\n",
        "- Measures of Central Tendency:\n",
        "Mean (Average):\n",
        "\n",
        "Definition: Sum of all values divided by the number of values.\n",
        "\n",
        "Use: When data has no extreme outliers.\n",
        "\n",
        "Example: Average test score of a class (e.g., scores: 80, 85, 90 → mean = 85).\n",
        "\n",
        "Median (Middle Value):\n",
        "\n",
        "Definition: The middle value when data is ordered.\n",
        "\n",
        "Use: When data has outliers, as it isn’t affected by them.\n",
        "\n",
        "Example: Median salary in a dataset (e.g., ₹20K, ₹50K, ₹1 lakh → median = ₹50K).\n",
        "\n",
        "Mode (Most Frequent Value):\n",
        "\n",
        "Definition: The value that appears most often.\n",
        "\n",
        "Use: When analyzing categorical or highly repetitive data.\n",
        "\n",
        "Example: Most common shoe size sold in a store (e.g., sizes: 6, 7, 7, 8 → mode = 7)."
      ],
      "metadata": {
        "id": "A0Z67jhBTPAE"
      }
    },
    {
      "cell_type": "markdown",
      "source": [
        "3. Explain the concept of dispersion. How do variance and standard deviation measure the spread of data?\n",
        "\n",
        "- Dispersion measures how data points spread out around a central value, such as the mean. Variance quantifies this by calculating the average squared deviation from the mean, highlighting variability. Standard deviation, being the square root of variance, presents this spread in the same units as the data, making it easier to interpret.\n",
        "\n"
      ],
      "metadata": {
        "id": "Km4mxYlkTPDS"
      }
    },
    {
      "cell_type": "markdown",
      "source": [
        "4. What is a box plot, and what can it tell you about the distribution of data?\n",
        "\n",
        "- A box plot (or whisker plot) is a graphical representation of data distribution. It summarizes data using five key statistics: minimum, first quartile (Q1), median (Q2), third quartile (Q3), and maximum.\n",
        "\n",
        "What it tells you:\n",
        "Spread of data: Shows variability and range.\n",
        "\n",
        "Central tendency: Highlights the median.\n",
        "\n",
        "Outliers: Indicates extreme values outside the whiskers.\n",
        "\n",
        "Symmetry: Reveals if the data is skewed (asymmetrical) or symmetric."
      ],
      "metadata": {
        "id": "8WZNSc2wTPFn"
      }
    },
    {
      "cell_type": "markdown",
      "source": [
        "5. Discuss the role of random sampling in making inferences about populations.\n",
        "\n",
        "- Random sampling ensures that every individual in a population has an equal chance of selection, reducing bias. It helps gather a representative subset, allowing researchers to make valid inferences about the entire population while maintaining accuracy and generalizability in their conclusions."
      ],
      "metadata": {
        "id": "2wkslQTQTPIB"
      }
    },
    {
      "cell_type": "markdown",
      "source": [
        "6. Explain the concept of skewness and its types. How does skewness affect the interpretation of data?\n",
        "\n",
        "- Skewness:\n",
        "Skewness measures the asymmetry of a data distribution.\n",
        "\n",
        "Types:\n",
        "Positive Skew (Right-Skewed): Tail extends to the right; mean > median.\n",
        "\n",
        "Negative Skew (Left-Skewed): Tail extends to the left; mean < median.\n",
        "\n",
        "Symmetrical: No skew; mean ≈ median.\n",
        "\n",
        "Effect:\n",
        "Skewness impacts data interpretation by indicating whether data is concentrated towards one side, helping in understanding trends and potential biases.\n",
        "\n"
      ],
      "metadata": {
        "id": "JBsK-dpMTPLe"
      }
    },
    {
      "cell_type": "markdown",
      "source": [],
      "metadata": {
        "id": "n7U4DNMKTPOX"
      }
    },
    {
      "cell_type": "markdown",
      "source": [],
      "metadata": {
        "id": "JY0OKJ3YTPRI"
      }
    },
    {
      "cell_type": "markdown",
      "source": [],
      "metadata": {
        "id": "O6cIP0jQTPTr"
      }
    },
    {
      "cell_type": "markdown",
      "source": [
        "7. What is the interquartile range (IQR), and how is it used to detect outliers?\n",
        "\n",
        "- The interquartile range (IQR) measures the spread of the middle 50% of data, calculated as: IQR = Q3 (Third Quartile) - Q1 (First Quartile).\n",
        "\n",
        "To detect outliers, any data point below Q1 - 1.5 × IQR or above Q3 + 1.5 × IQR is considered an outlier. It effectively highlights values that deviate significantly from the central data range."
      ],
      "metadata": {
        "id": "Qlw6itBxTPWW"
      }
    },
    {
      "cell_type": "markdown",
      "source": [
        "8. Discuss the conditions under which the binomial distribution is used.\n",
        "\n",
        "- The binomial distribution is used when:\n",
        "\n",
        "An experiment consists of a fixed number of independent trials.\n",
        "\n",
        "Each trial has only two outcomes (success or failure).\n",
        "\n",
        "The probability of success remains constant across trials.\n",
        "\n",
        "Example: Tossing a coin 10 times to count the number of heads, where \"head\" is a success. It’s ideal for binary outcome scenarios.\n",
        "\n"
      ],
      "metadata": {
        "id": "9k3Z4gXdTPbk"
      }
    },
    {
      "cell_type": "markdown",
      "source": [],
      "metadata": {
        "id": "aeis2xGgTPeV"
      }
    },
    {
      "cell_type": "markdown",
      "source": [],
      "metadata": {
        "id": "6vCcARZZTPgh"
      }
    },
    {
      "cell_type": "markdown",
      "source": [
        "9. Explain the properties of the normal distribution and the empirical rule (68-95-99.7 rule).\n",
        "\n",
        "- Properties of Normal Distribution:\n",
        "Symmetrical: The distribution is perfectly symmetric around the mean.\n",
        "\n",
        "Bell-Shaped Curve: Most data points are close to the mean, tapering off evenly on both sides.\n",
        "\n",
        "Mean = Median = Mode: They are all equal in a normal distribution.\n",
        "\n",
        "Asymptotic: The tails approach, but never touch, the horizontal axis.\n",
        "\n",
        "Empirical Rule (68-95-99.7 Rule):\n",
        "68% of data falls within 1 standard deviation of the mean.\n",
        "\n",
        "95% of data falls within 2 standard deviations.\n",
        "\n",
        "99.7% of data falls within 3 standard deviations."
      ],
      "metadata": {
        "id": "wjVZEVbWTPiW"
      }
    },
    {
      "cell_type": "markdown",
      "source": [
        "10. Provide a real-life example of a Poisson process and calculate the probability for a specific event.\n",
        "\n",
        "- A real-life Poisson process example is the number of customer arrivals at a bank per hour; to calculate the probability of 3 arrivals in an hour (given an average of 5 per hour), use the formula: $$P(X=3) = \\frac{e^{-5} \\cdot 5^3}{3!} = 0.1404.$$\n",
        "\n"
      ],
      "metadata": {
        "id": "Ak4Y9vcvTPmc"
      }
    },
    {
      "cell_type": "markdown",
      "source": [
        "11. Explain what a random variable is and differentiate between discrete and continuous random variables.\n",
        "\n",
        "- A random variable is a numeric outcome of a random process; discrete random variables have countable values (e.g., dice rolls), while continuous random variables have an infinite range within intervals (e.g., temperatures).\n",
        "\n"
      ],
      "metadata": {
        "id": "Bu_PlVoJTPp_"
      }
    },
    {
      "cell_type": "markdown",
      "source": [
        "12. Provide an example dataset, calculate both covariance and correlation, and interpret the results.\n",
        "\n",
        "- For a dataset of hours studied (X: 2, 4, 6) and test scores (Y: 50, 80, 110), **covariance** is 30 (positive, indicating both increase together) and **correlation** is 1 (perfect positive relationship)."
      ],
      "metadata": {
        "id": "giy7jJCNhAOR"
      }
    },
    {
      "cell_type": "markdown",
      "source": [],
      "metadata": {
        "id": "K_iSx3cfhAbE"
      }
    }
  ]
}