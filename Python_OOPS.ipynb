{
  "nbformat": 4,
  "nbformat_minor": 0,
  "metadata": {
    "colab": {
      "provenance": [],
      "authorship_tag": "ABX9TyN5AS19lf5Ip35DgcbT8oOU",
      "include_colab_link": true
    },
    "kernelspec": {
      "name": "python3",
      "display_name": "Python 3"
    },
    "language_info": {
      "name": "python"
    }
  },
  "cells": [
    {
      "cell_type": "markdown",
      "metadata": {
        "id": "view-in-github",
        "colab_type": "text"
      },
      "source": [
        "<a href=\"https://colab.research.google.com/github/kanika0216/python-Basics/blob/main/Python_OOPS.ipynb\" target=\"_parent\"><img src=\"https://colab.research.google.com/assets/colab-badge.svg\" alt=\"Open In Colab\"/></a>"
      ]
    },
    {
      "cell_type": "markdown",
      "source": [
        "**THEORITICAL QUESTIONS**"
      ],
      "metadata": {
        "id": "t0NKsGSlpcaf"
      }
    },
    {
      "cell_type": "markdown",
      "source": [
        "1. What is Object-Oriented Programming (OOP)?\n",
        "\n",
        "- Object-Oriented Programming (OOP) is a programming paradigm that organizes code into \"objects,\" which are instances of classes."
      ],
      "metadata": {
        "id": "wue4A3LepnhC"
      }
    },
    {
      "cell_type": "markdown",
      "source": [
        "2. What is a class in OOP ?\n",
        "\n",
        "- A class is a user-defined data type that encapsulates data and functions to operate on that data. When an object is created from a class, it is an instance of that class.\n"
      ],
      "metadata": {
        "id": "yNWRAJ3hpny9"
      }
    },
    {
      "cell_type": "markdown",
      "source": [
        "3. What is an object in OOP?\n",
        "\n",
        "-An object in Object-Oriented Programming (OOP) is an instance of a class. It is a real-world entity that has properties (attributes) and behaviors (methods) defined by its class. Objects interact with each other through methods and represent the actual data and functionality in a program.\n",
        "\n",
        "\n"
      ],
      "metadata": {
        "id": "A7wElbETpn12"
      }
    },
    {
      "cell_type": "markdown",
      "source": [
        "4. What is the difference between abstraction and encapsulation ?\n",
        "\n",
        "- Abstraction and Encapsulation are two key concepts in Object-Oriented Programming, but they serve different purposes:\n",
        "\n",
        "Abstraction:\n",
        "\n",
        "Focuses on hiding complexity and showing only the necessary details.\n",
        "Allows you to interact with an object without needing to know its internal workings.\n",
        "\n",
        "\n",
        "Encapsulation:\n",
        "\n",
        "Focuses on bundling data (attributes) and methods (functions) that operate on the data into a single unit (class).\n",
        "Restricts access to the internal state of an object using access modifiers (e.g., private, public)."
      ],
      "metadata": {
        "id": "GMCWtKffpn45"
      }
    },
    {
      "cell_type": "markdown",
      "source": [
        "5. What are dunder methods in Python?\n",
        "\n",
        "- Dunder methods (short for \"double underscore\" methods) in Python are special methods that have double underscores at the beginning and end of their names. They are also called magic methods or special methods. These methods allow you to define how objects of a class behave in certain situations, such as when they are used with operators or in built-in functions.\n"
      ],
      "metadata": {
        "id": "kvSpEYk_pn77"
      }
    },
    {
      "cell_type": "markdown",
      "source": [
        "\n",
        "\n",
        "---\n",
        "\n"
      ],
      "metadata": {
        "id": "g-7RU7UOpn-_"
      }
    },
    {
      "cell_type": "markdown",
      "source": [
        "6. Explain the concept of inheritance in OOP?\n",
        "\n",
        "- Inheritance in Object-Oriented Programming (OOP) is a mechanism that allows one class (called a subclass or derived class) to inherit attributes and methods from another class (called a superclass or base class). This promotes code reuse and establishes a hierarchical relationship between classes.\n",
        "\n",
        "\n",
        "\n"
      ],
      "metadata": {
        "id": "UEdYMTO5poCt"
      }
    },
    {
      "cell_type": "markdown",
      "source": [
        "7. What is polymorphism in OOP?\n",
        "\n",
        "- Polymorphism in Object-Oriented Programming (OOP) refers to the ability of different objects to respond to the same method call in different ways. It allows for method overriding (inherited methods with new implementations) or method overloading (same method name with different parameters), enabling flexibility and adaptability in code.\n",
        "\n",
        "\n"
      ],
      "metadata": {
        "id": "l9ZgzXEMpoGC"
      }
    },
    {
      "cell_type": "markdown",
      "source": [
        "8. How is encapsulation achieved in Python?\n",
        "\n",
        "- Encapsulation in Python is achieved by bundling data (attributes) and methods (functions) that operate on the data into a single unit (class) and controlling access to that data using access modifiers.\n",
        "\n",
        "\n"
      ],
      "metadata": {
        "id": "4gaYsDKIpoIq"
      }
    },
    {
      "cell_type": "markdown",
      "source": [
        "9. What is a constructor in Python?\n",
        "\n",
        "- A constructor in Python is a special method __init__() that is automatically called when an object of a class is created. It initializes the object's attributes and sets up its initial state.\n",
        "\n",
        "\n"
      ],
      "metadata": {
        "id": "7ual24JEpoLd"
      }
    },
    {
      "cell_type": "markdown",
      "source": [
        "10. What are class and static methods in Python?\n",
        "\n",
        "- In Python, class methods and static methods are methods that belong to the class rather than an instance of the class.\n",
        "\n",
        "1. Class Method:\n",
        "Defined using the @classmethod decorator.\n",
        "Takes cls (the class itself) as the first parameter, not self (the instance).\n",
        "Used to modify class-level attributes or for factory methods.\n",
        "\n",
        "2. Static Method:\n",
        "Defined using the @staticmethod decorator.\n",
        "Does not take self or cls as a parameter.\n",
        "Used for utility functions that don’t modify the class or instance state.\n",
        "\n"
      ],
      "metadata": {
        "id": "bxTJbCIvpoOz"
      }
    },
    {
      "cell_type": "markdown",
      "source": [
        "11. What is method overloading in Python?\n",
        "\n",
        "- Method overloading in Python refers to the ability to define multiple methods with the same name but different parameter types or numbers. However, Python does not support traditional method overloading like other languages (e.g., Java or C++), where you can have methods with the same name but different signatures.\n",
        "\n",
        "\n"
      ],
      "metadata": {
        "id": "sEpJC2xGpoSU"
      }
    },
    {
      "cell_type": "markdown",
      "source": [
        "13. What is a property decorator in Python?\n",
        "\n",
        "- The property decorator in Python is used to define a method as a property, allowing you to access it like an attribute, while still being able to add logic to the method. It lets you create getter methods for attributes without directly exposing them.\n",
        "\n",
        "\n"
      ],
      "metadata": {
        "id": "q7FebeALu1gL"
      }
    },
    {
      "cell_type": "markdown",
      "source": [
        "14. Why is polymorphism important in OOP?\n",
        "\n",
        "- Polymorphism is important in Object-Oriented Programming (OOP) because it allows objects of different classes to be treated as objects of a common superclass. It enables flexibility and extensibility in code by allowing methods to be used interchangeably across different objects.\n",
        "\n",
        "\n"
      ],
      "metadata": {
        "id": "zoMiR_1Eu1c8"
      }
    },
    {
      "cell_type": "markdown",
      "source": [
        "15. What is an abstract class in Python?\n",
        "\n",
        "- An abstract class in Python is a class that cannot be instantiated directly and is meant to be subclassed by other classes. It defines abstract methods that must be implemented by its subclasses. Abstract classes are defined using the ABC (Abstract Base Class) module and the @abstractmethod decorator.\n",
        "\n",
        "\n"
      ],
      "metadata": {
        "id": "IYggk7eCu1bJ"
      }
    },
    {
      "cell_type": "markdown",
      "source": [
        "16. What are the advantages of OOP?\n",
        "\n",
        "- The advantages of Object-Oriented Programming (OOP) are:\n",
        "\n",
        "Modularity: Code is organized into objects, making it easier to manage and modify. Each object is a self-contained unit.\n",
        "\n",
        "Reusability: Once a class is defined, it can be reused across different parts of the program or in other projects through inheritance and composition.\n",
        "\n",
        "Maintainability: OOP promotes the creation of clean, structured, and easily maintainable code. Changes in one part of the system (e.g., a class) don't affect the entire program.\n",
        "\n",
        "Abstraction: OOP allows complex systems to be represented in simpler terms by hiding the internal details of objects and exposing only necessary functionality.\n",
        "\n",
        "Scalability: OOP supports the growth of applications by allowing easy extension of existing classes, making it adaptable for future changes.\n",
        "\n",
        "Encapsulation: It protects the internal state of objects by restricting access to their attributes, which reduces the risk of unintended interference or modification.\n",
        "\n",
        "Polymorphism: Different classes can define methods with the same name but different behaviors, enabling flexibility and simplifying code.\n",
        "\n",
        "\n",
        "\n",
        "\n",
        "\n"
      ],
      "metadata": {
        "id": "VPrZ8rMtu1Y6"
      }
    },
    {
      "cell_type": "markdown",
      "source": [
        "17. What is the difference between a class variable and an instance variable?\n",
        "\n",
        "- The difference between class variables and instance variables in Python is:\n",
        "\n",
        "Class Variable:\n",
        "\n",
        "Shared by all instances of the class.\n",
        "Defined within the class but outside any methods.\n",
        "Used to store values that are common across all instances.\n",
        "\n",
        "Instance Variable:\n",
        "\n",
        "Specific to each instance (object) of the class.\n",
        "Defined within methods (usually the __init__ constructor) using self.\n",
        "Used to store values unique to each object.\n",
        "\n",
        "\n",
        "\n",
        "\n"
      ],
      "metadata": {
        "id": "LkLlvMSuu1W9"
      }
    },
    {
      "cell_type": "markdown",
      "source": [
        "18. What is multiple inheritance in Python?\n",
        "\n",
        "- Multiple inheritance in Python is a feature where a class can inherit attributes and methods from more than one parent class. This allows a subclass to combine the functionality of multiple base classes.\n",
        "\n",
        "\n"
      ],
      "metadata": {
        "id": "LbfakAByu1Uk"
      }
    },
    {
      "cell_type": "markdown",
      "source": [
        "19. Explain the purpose of ‘’__str__’ and ‘__repr__’ ‘ methods in Python?\n",
        "\n",
        "- In Python, __str__() and __repr__() are special methods used to define how objects are represented as strings, but they serve different purposes:\n",
        "\n",
        "__str__():\n",
        "\n",
        "Purpose: Defines the informal or user-friendly string representation of an object. It is called by str() and when using print().\n",
        "Should return a readable and concise string suitable for display to the user.\n",
        "\n",
        "__repr__():\n",
        "\n",
        "Purpose: Defines the formal string representation of an object, mainly for debugging. It is called by repr() and in interactive sessions (e.g., when typing the object in the shell).\n",
        "Should return a string that could ideally be used to recreate the object.\n",
        "\n",
        "\n"
      ],
      "metadata": {
        "id": "z5ZDj50Ku1RO"
      }
    },
    {
      "cell_type": "markdown",
      "source": [
        "20. What is the significance of the ‘super()’ function in Python?\n",
        "\n",
        "- The super() function in Python is used to call methods from a parent class in a subclass. It allows you to access the parent class's methods and properties, especially in the context of method overriding and multiple inheritance.\n",
        "\n",
        "\n"
      ],
      "metadata": {
        "id": "A5a0MBQku1L8"
      }
    },
    {
      "cell_type": "markdown",
      "source": [
        "21. What is the significance of the __del__ method in Python?\n",
        "\n",
        "- The __del__() method in Python is a special method used for destruction. It is called when an object is about to be destroyed or garbage collected, and it allows you to define cleanup behavior, such as closing files, releasing resources, or performing other necessary tasks before an object is removed from memory.\n",
        "\n",
        "\n"
      ],
      "metadata": {
        "id": "eBBEPQmdu1I9"
      }
    },
    {
      "cell_type": "markdown",
      "source": [
        "22. What is the difference between @staticmethod and @classmethod in Python?\n",
        "\n",
        "- The key difference between @staticmethod and @classmethod in Python lies in how they relate to the class and its instances:\n",
        "\n",
        "@staticmethod:\n",
        "\n",
        "Does not take self (instance) or cls (class) as the first parameter.\n",
        "\n",
        "It is a method that belongs to the class, but does not have access to the instance (self) or class (cls).\n",
        "\n",
        "Typically used for utility functions that don't need to modify or access instance or class state.\n",
        "\n",
        "@classmethod:\n",
        "\n",
        "Takes cls (the class itself) as the first parameter, instead of self.\n",
        "\n",
        "It can modify or interact with the class state, but not with instance-specific data.\n",
        "\n",
        "Used when the method needs to access or modify class-level attributes.\n"
      ],
      "metadata": {
        "id": "DXg5nQg1u1E0"
      }
    },
    {
      "cell_type": "markdown",
      "source": [
        "23. How does polymorphism work in Python with inheritance?\n",
        "\n",
        "- Polymorphism in Python works through inheritance by allowing different classes to define methods with the same name, but with different implementations. When a method is called on an object, Python will invoke the appropriate method for that object's class, even if the method is called in a polymorphic way from a parent class reference.\n",
        "\n",
        "\n"
      ],
      "metadata": {
        "id": "k-_jiVdnu1C1"
      }
    },
    {
      "cell_type": "markdown",
      "source": [
        "24. What is method chaining in Python OOP?\n",
        "\n",
        "- Method chaining in Python OOP refers to the practice of calling multiple methods on the same object in a single line of code. This is made possible because each method returns the object itself (or self), allowing for subsequent method calls.\n",
        "\n",
        "\n"
      ],
      "metadata": {
        "id": "USCsYzaJu1Aj"
      }
    },
    {
      "cell_type": "markdown",
      "source": [
        "25. What is the purpose of the __call__ method in Python?\n",
        "\n",
        "- The `__call__` method in Python allows an object to be called like a function. When defined in a class, it enables instances of the class to be invoked with parentheses, executing the code inside the `__call__` method."
      ],
      "metadata": {
        "id": "M2dqcH47u08n"
      }
    },
    {
      "cell_type": "markdown",
      "source": [
        "**PRACTICAL** **QUESTIONS**"
      ],
      "metadata": {
        "id": "B12wOwHnu0qq"
      }
    },
    {
      "cell_type": "markdown",
      "source": [
        "1. Create a parent class Animal with a method speak() that prints a generic message. Create a child class Dog that overrides the speak() method to print \"Bark!\"."
      ],
      "metadata": {
        "id": "WprC8uk405Ba"
      }
    },
    {
      "cell_type": "code",
      "source": [
        "class Animal:\n",
        "    def speak(self):\n",
        "        print(\"Some generic animal sound\")\n",
        "\n",
        "class Dog(Animal):\n",
        "    def speak(self):\n",
        "        print(\"Bark!\")\n",
        "        super().speak()\n",
        "dog = Dog()\n",
        "dog.speak()\n"
      ],
      "metadata": {
        "colab": {
          "base_uri": "https://localhost:8080/"
        },
        "id": "jvpMAbgU0ybl",
        "outputId": "b2f7f3b5-fe9f-4824-ec3c-8ddbc277af7b"
      },
      "execution_count": null,
      "outputs": [
        {
          "output_type": "stream",
          "name": "stdout",
          "text": [
            "Bark!\n",
            "Some generic animal sound\n"
          ]
        }
      ]
    },
    {
      "cell_type": "markdown",
      "source": [
        "2. Write a program to create an abstract class Shape with a method area(). Derive classes Circle and Rectangle from it and implement the area() method in both."
      ],
      "metadata": {
        "id": "Lm7fiWIu1--_"
      }
    },
    {
      "cell_type": "code",
      "source": [
        "\n",
        "class Shape(ABC):\n",
        "\n",
        "    @abstractmethod\n",
        "    def area(self):\n",
        "        pass\n",
        "\n",
        "class Circle(Shape):\n",
        "    def __init__(self, radius):\n",
        "        self.radius = radius\n",
        "\n",
        "    def area(self):\n",
        "        return math.pi * (self.radius ** 2)\n",
        "\n",
        "class Rectangle(Shape):\n",
        "    def __init__(self, width, height):\n",
        "        self.width = width\n",
        "        self.height = height\n",
        "\n",
        "    def area(self):\n",
        "        return self.width * self.height\n",
        "\n",
        "circle = Circle(5)\n",
        "print(f\"Area of Circle: {circle.area()}\")\n",
        "\n",
        "rectangle = Rectangle(4, 6)\n",
        "print(f\"Area of Rectangle: {rectangle.area()}\")\n"
      ],
      "metadata": {
        "colab": {
          "base_uri": "https://localhost:8080/"
        },
        "id": "L5KV1-310ynC",
        "outputId": "36610f02-8559-429d-ef3b-384ee828f4b2"
      },
      "execution_count": null,
      "outputs": [
        {
          "output_type": "stream",
          "name": "stdout",
          "text": [
            "Area of Circle: 78.53981633974483\n",
            "Area of Rectangle: 24\n"
          ]
        }
      ]
    },
    {
      "cell_type": "markdown",
      "source": [
        "3. Implement a multi-level inheritance scenario where a class Vehicle has an attribute type. Derive a class Car and further derive a class ElectricCar that adds a battery attribute."
      ],
      "metadata": {
        "id": "sSjYu1PL2XtM"
      }
    },
    {
      "cell_type": "code",
      "source": [
        "\n",
        "class Vehicle:\n",
        "    def __init__(self, type):\n",
        "        self.type = type\n",
        "\n",
        "    def display_type(self):\n",
        "        print(f\"This is a {self.type}\")\n",
        "\n",
        "class Car(Vehicle):\n",
        "    def __init__(self, type, brand):\n",
        "        super().__init__(type)\n",
        "        self.brand = brand\n",
        "\n",
        "    def display_brand(self):\n",
        "        print(f\"This car is of brand: {self.brand}\")\n",
        "\n",
        "class ElectricCar(Car):\n",
        "    def __init__(self, type, brand, battery):\n",
        "        super().__init__(type, brand)\n",
        "        self.battery = battery\n",
        "\n",
        "    def display_battery(self):\n",
        "        print(f\"This electric car has a {self.battery} kWh battery.\")\n",
        "\n",
        "vehicle = Vehicle(\"Vehicle\")\n",
        "vehicle.display_type()\n",
        "car = Car(\"Car\", \"Toyota\")\n",
        "car.display_type()\n",
        "car.display_brand()\n",
        "\n",
        "electric_car = ElectricCar(\"Electric Car\", \"Tesla\", 75)\n",
        "electric_car.display_type()\n",
        "electric_car.display_brand()\n",
        "electric_car.display_battery()\n"
      ],
      "metadata": {
        "colab": {
          "base_uri": "https://localhost:8080/"
        },
        "id": "mpverB1U0ypn",
        "outputId": "e7742a69-9fbe-4206-ade2-e4bab9935f39"
      },
      "execution_count": null,
      "outputs": [
        {
          "output_type": "stream",
          "name": "stdout",
          "text": [
            "This is a Vehicle\n",
            "This is a Car\n",
            "This car is of brand: Toyota\n",
            "This is a Electric Car\n",
            "This car is of brand: Tesla\n",
            "This electric car has a 75 kWh battery.\n"
          ]
        }
      ]
    },
    {
      "cell_type": "markdown",
      "source": [
        "4. Implement a multi-level inheritance scenario where a class Vehicle has an attribute type. Derive a class Car and further derive a class ElectricCar that adds a battery attribute.\n",
        "\n",
        "- SAME AS ANS NO. 3"
      ],
      "metadata": {
        "id": "LshBMghU22FF"
      }
    },
    {
      "cell_type": "markdown",
      "source": [
        "5. Write a program to demonstrate encapsulation by creating a class BankAccount with private attributes balance and methods to deposit, withdraw, and check balance."
      ],
      "metadata": {
        "id": "pY54vb2C3VIw"
      }
    },
    {
      "cell_type": "code",
      "source": [
        "class BankAccount:\n",
        "    def __init__(self, initial_balance=0):\n",
        "        # Encapsulation: balance is a private attribute\n",
        "        self.__balance = initial_balance\n",
        "\n",
        "    def deposit(self, amount):\n",
        "        \"\"\"Method to deposit money into the account\"\"\"\n",
        "        if amount > 0:\n",
        "            self.__balance += amount\n",
        "            print(f\"Deposited: ${amount:.2f}\")\n",
        "        else:\n",
        "            print(\"Deposit amount must be positive.\")\n",
        "\n",
        "    def withdraw(self, amount):\n",
        "        \"\"\"Method to withdraw money from the account\"\"\"\n",
        "        if amount > 0:\n",
        "            if amount <= self.__balance:\n",
        "                self.__balance -= amount\n",
        "                print(f\"Withdrew: ${amount:.2f}\")\n",
        "            else:\n",
        "                print(\"Insufficient funds.\")\n",
        "        else:\n",
        "            print(\"Withdrawal amount must be positive.\")\n",
        "\n",
        "    def check_balance(self):\n",
        "        \"\"\"Method to check the current balance\"\"\"\n",
        "        return f\"Current Balance: ${self.__balance:.2f}\"\n",
        "\n",
        "account = BankAccount(1000)\n",
        "\n",
        "print(account.check_balance())\n"
      ],
      "metadata": {
        "colab": {
          "base_uri": "https://localhost:8080/"
        },
        "id": "7p25b62y0yvl",
        "outputId": "d106998d-9687-497f-b820-7d4c31d0eb2b"
      },
      "execution_count": null,
      "outputs": [
        {
          "output_type": "stream",
          "name": "stdout",
          "text": [
            "Current Balance: $1000.00\n"
          ]
        }
      ]
    },
    {
      "cell_type": "markdown",
      "source": [
        "6. Demonstrate runtime polymorphism using a method play() in a base class Instrument. Derive classes Guitar and Piano that implement their own version of play()."
      ],
      "metadata": {
        "id": "SnA8q3E43rW9"
      }
    },
    {
      "cell_type": "code",
      "source": [
        "\n",
        "class Instrument:\n",
        "    def play(self):\n",
        "        \"\"\"Base method play for all instruments.\"\"\"\n",
        "        print(\"The instrument is being played.\")\n",
        "\n",
        "class Guitar(Instrument):\n",
        "    def play(self):\n",
        "        \"\"\"Override play method for Guitar.\"\"\"\n",
        "        print(\"Strumming the guitar.\")\n",
        "\n",
        "class Piano(Instrument):\n",
        "    def play(self):\n",
        "        \"\"\"Override play method for Piano.\"\"\"\n",
        "        print(\"Playing the piano keys.\")\n",
        "\n",
        "def demonstrate_polymorphism(instrument: Instrument):\n",
        "    instrument.play()\n",
        "\n",
        "guitar = Guitar()\n",
        "piano = Piano()\n",
        "\n",
        "print(\"Testing Guitar:\")\n",
        "demonstrate_polymorphism(guitar)\n",
        "\n",
        "print(\"\\nTesting Piano:\")\n",
        "demonstrate_polymorphism(piano)\n"
      ],
      "metadata": {
        "colab": {
          "base_uri": "https://localhost:8080/"
        },
        "id": "3WR6uuj20yy1",
        "outputId": "c511868a-fafd-437f-fe2d-7b58ff29c273"
      },
      "execution_count": null,
      "outputs": [
        {
          "output_type": "stream",
          "name": "stdout",
          "text": [
            "Testing Guitar:\n",
            "Strumming the guitar.\n",
            "\n",
            "Testing Piano:\n",
            "Playing the piano keys.\n"
          ]
        }
      ]
    },
    {
      "cell_type": "markdown",
      "source": [
        "7. Create a class MathOperations with a class method add_numbers() to add two numbers and a static method subtract_numbers() to subtract two numbers."
      ],
      "metadata": {
        "id": "Nui3PotP4f1v"
      }
    },
    {
      "cell_type": "code",
      "source": [
        "class MathOperations:\n",
        "    @classmethod\n",
        "    def add_numbers(cls, num1, num2):\n",
        "        \"\"\"Class method to add two numbers.\"\"\"\n",
        "        return num1 + num2\n",
        "\n",
        "    @staticmethod\n",
        "    def subtract_numbers(num1, num2):\n",
        "        \"\"\"Static method to subtract two numbers.\"\"\"\n",
        "        return num1 - num2\n",
        "\n",
        "\n",
        "# Adding numbers using class method\n",
        "result_add = MathOperations.add_numbers(10, 5)\n",
        "print(f\"Addition Result: {result_add}\")\n",
        "\n",
        "# Subtracting numbers using static method\n",
        "result_subtract = MathOperations.subtract_numbers(10, 5)\n",
        "print(f\"Subtraction Result: {result_subtract}\")\n"
      ],
      "metadata": {
        "colab": {
          "base_uri": "https://localhost:8080/"
        },
        "id": "KaNq16eK4fZa",
        "outputId": "4a85b340-7bf7-4087-bfdb-4486cb8e2f23"
      },
      "execution_count": null,
      "outputs": [
        {
          "output_type": "stream",
          "name": "stdout",
          "text": [
            "Addition Result: 15\n",
            "Subtraction Result: 5\n"
          ]
        }
      ]
    },
    {
      "cell_type": "markdown",
      "source": [
        "8. Implement a class Person with a class method to count the total number of persons created"
      ],
      "metadata": {
        "id": "t00pf4GN444-"
      }
    },
    {
      "cell_type": "code",
      "source": [
        "class Person:\n",
        "\n",
        "    total_persons = 0\n",
        "\n",
        "    def __init__(self, name, age):\n",
        "        \"\"\"Constructor to initialize name and age, and increment the person count.\"\"\"\n",
        "        self.name = name\n",
        "        self.age = age\n",
        "        Person.total_persons += 1\n",
        "\n",
        "    @classmethod\n",
        "    def get_total_persons(cls):\n",
        "        \"\"\"Class method to return the total number of persons created.\"\"\"\n",
        "        return cls.total_persons\n",
        "\n",
        "person1 = Person(\"Alice\", 30)\n",
        "person2 = Person(\"Bob\", 25)\n",
        "person3 = Person(\"Charlie\", 35)\n",
        "\n",
        "print(f\"Total number of persons created: {Person.get_total_persons()}\")\n"
      ],
      "metadata": {
        "colab": {
          "base_uri": "https://localhost:8080/"
        },
        "id": "X7ftqGa20y2p",
        "outputId": "961c672e-9174-4692-9695-9d8731e72876"
      },
      "execution_count": null,
      "outputs": [
        {
          "output_type": "stream",
          "name": "stdout",
          "text": [
            "Total number of persons created: 3\n"
          ]
        }
      ]
    },
    {
      "cell_type": "markdown",
      "source": [
        "9. Write a class Fraction with attributes numerator and denominator. Override the str method to display the fraction as \"numerator/denominator\"."
      ],
      "metadata": {
        "id": "F5eXb-Mq5Hjm"
      }
    },
    {
      "cell_type": "code",
      "source": [
        "class Fraction:\n",
        "    def __init__(self, numerator, denominator):\n",
        "        \"\"\"Initialize the numerator and denominator.\"\"\"\n",
        "        self.numerator = numerator\n",
        "        self.denominator = denominator\n",
        "\n",
        "    def __str__(self):\n",
        "        \"\"\"Override the __str__ method to display the fraction as 'numerator/denominator'.\"\"\"\n",
        "        return f\"{self.numerator}/{self.denominator}\"\n",
        "\n",
        "\n",
        "fraction1 = Fraction(3, 4)\n",
        "fraction2 = Fraction(5, 8)\n",
        "\n",
        "print(fraction1)\n",
        "print(fraction2)\n"
      ],
      "metadata": {
        "colab": {
          "base_uri": "https://localhost:8080/"
        },
        "id": "0Zaiq_U20y6Z",
        "outputId": "74a01388-a117-4fd8-a6a1-d0fdacd94cb2"
      },
      "execution_count": null,
      "outputs": [
        {
          "output_type": "stream",
          "name": "stdout",
          "text": [
            "3/4\n",
            "5/8\n"
          ]
        }
      ]
    },
    {
      "cell_type": "markdown",
      "source": [
        "10. Demonstrate operator overloading by creating a class Vector and overriding the add method to add two vectors."
      ],
      "metadata": {
        "id": "KYumMCzH5Zhg"
      }
    },
    {
      "cell_type": "code",
      "source": [
        "class Vector:\n",
        "    def __init__(self, x, y):\n",
        "        \"\"\"Initialize the vector with x and y components.\"\"\"\n",
        "        self.x = x\n",
        "        self.y = y\n",
        "\n",
        "    def __add__(self, other):\n",
        "        \"\"\"Overload the + operator to add two vectors.\"\"\"\n",
        "        if isinstance(other, Vector):\n",
        "            return Vector(self.x + other.x, self.y + other.y)\n",
        "        else:\n",
        "            raise TypeError(\"Operands must be instances of Vector.\")\n",
        "\n",
        "    def __str__(self):\n",
        "        \"\"\"Override the str method to display the vector in a human-readable format.\"\"\"\n",
        "        return f\"({self.x}, {self.y})\"\n",
        "\n",
        "v1 = Vector(3, 4)\n",
        "v2 = Vector(1, 2)\n",
        "\n",
        "v3 = v1 + v2\n",
        "\n",
        "print(f\"v1 = {v1}\")\n",
        "print(f\"v2 = {v2}\")\n"
      ],
      "metadata": {
        "colab": {
          "base_uri": "https://localhost:8080/"
        },
        "id": "dfVtrceC0y9Y",
        "outputId": "5d577628-ac73-42da-ed6a-b0f54a899b9a"
      },
      "execution_count": null,
      "outputs": [
        {
          "output_type": "stream",
          "name": "stdout",
          "text": [
            "v1 = (3, 4)\n",
            "v2 = (1, 2)\n"
          ]
        }
      ]
    },
    {
      "cell_type": "markdown",
      "source": [
        "11. Create a class Person with attributes name and age. Add a method greet() that prints \"Hello, my name is {name} and I am {age} years old.\""
      ],
      "metadata": {
        "id": "8hAXpYS55wSD"
      }
    },
    {
      "cell_type": "code",
      "source": [
        "class Person:\n",
        "    def __init__(self, name, age):\n",
        "        \"\"\"Initialize the name and age of the person.\"\"\"\n",
        "        self.name = name\n",
        "        self.age = age\n",
        "\n",
        "    def greet(self):\n",
        "        \"\"\"Print a greeting message.\"\"\"\n",
        "        print(f\"Hello, my name is {self.name} and I am {self.age} years old.\")\n",
        "\n",
        "\n",
        "person1 = Person(\"Alice\", 30)\n",
        "\n",
        "person1.greet()\n"
      ],
      "metadata": {
        "colab": {
          "base_uri": "https://localhost:8080/"
        },
        "id": "8NVkYKnU0zAV",
        "outputId": "bf8678d0-db9a-4cbe-b302-6c221f1e2aca"
      },
      "execution_count": null,
      "outputs": [
        {
          "output_type": "stream",
          "name": "stdout",
          "text": [
            "Hello, my name is Alice and I am 30 years old.\n"
          ]
        }
      ]
    },
    {
      "cell_type": "markdown",
      "source": [
        "12. Implement a class Student with attributes name and grades. Create a method average_grade() to compute the average of the grades."
      ],
      "metadata": {
        "id": "CDE09Hr76EEO"
      }
    },
    {
      "cell_type": "code",
      "source": [
        "class Student:\n",
        "    def __init__(self, name, grades):\n",
        "        \"\"\"Initialize the name and grades of the student.\"\"\"\n",
        "        self.name = name\n",
        "        self.grades = grades\n",
        "\n",
        "    def average_grade(self):\n",
        "        \"\"\"Compute and return the average of the grades.\"\"\"\n",
        "        if len(self.grades) == 0:\n",
        "            return 0\n",
        "        return sum(self.grades) / len(self.grades)\n",
        "\n",
        "student1 = Student(\"Alice\", [90, 85, 88, 92, 95])\n",
        "\n",
        "average = student1.average_grade()\n",
        "\n",
        "print(f\"{student1.name}'s average grade is: {average:.2f}\")\n"
      ],
      "metadata": {
        "colab": {
          "base_uri": "https://localhost:8080/"
        },
        "id": "JVDKPS2_6SY0",
        "outputId": "fdcfa988-da94-467f-9f31-92457c0f7c0c"
      },
      "execution_count": null,
      "outputs": [
        {
          "output_type": "stream",
          "name": "stdout",
          "text": [
            "Alice's average grade is: 90.00\n"
          ]
        }
      ]
    },
    {
      "cell_type": "markdown",
      "source": [
        "13. Create a class Rectangle with methods set_dimensions() to set the dimensions and area() to calculate the area."
      ],
      "metadata": {
        "id": "H19yiHxA6ggb"
      }
    },
    {
      "cell_type": "code",
      "source": [
        "class Rectangle:\n",
        "    def __init__(self, width=0, height=0):\n",
        "        \"\"\"Initialize the width and height of the rectangle.\"\"\"\n",
        "        self.width = width\n",
        "        self.height = height\n",
        "\n",
        "    def set_dimensions(self, width, height):\n",
        "        \"\"\"Set the dimensions of the rectangle.\"\"\"\n",
        "        self.width = width\n",
        "        self.height = height\n",
        "\n",
        "    def area(self):\n",
        "        \"\"\"Calculate and return the area of the rectangle.\"\"\"\n",
        "        return self.width * self.height\n",
        "\n",
        "# Creating an instance of Rectangle\n",
        "rect = Rectangle()\n",
        "\n",
        "# Setting the dimensions of the rectangle\n",
        "rect.set_dimensions(5, 3)\n",
        "\n",
        "# Calculating and displaying the area\n",
        "print(f\"The area of the rectangle is: {rect.area()} square units.\")\n"
      ],
      "metadata": {
        "colab": {
          "base_uri": "https://localhost:8080/"
        },
        "id": "uToeI7Ih6dBK",
        "outputId": "ea41ee66-2648-43c3-cc88-b8de24d10268"
      },
      "execution_count": null,
      "outputs": [
        {
          "output_type": "stream",
          "name": "stdout",
          "text": [
            "The area of the rectangle is: 15 square units.\n"
          ]
        }
      ]
    },
    {
      "cell_type": "markdown",
      "source": [
        "14. Create a class Employee with a method calculate_salary() that computes the salary based on hours worked and hourly rate. Create a derived class Manager that adds a bonus to the salary."
      ],
      "metadata": {
        "id": "ZYq3yFaS6uOY"
      }
    },
    {
      "cell_type": "code",
      "source": [
        "class Employee:\n",
        "    def __init__(self, name, hours_worked, hourly_rate):\n",
        "        self.name = name\n",
        "        self.hours_worked = hours_worked\n",
        "        self.hourly_rate = hourly_rate\n",
        "\n",
        "    def calculate_salary(self):\n",
        "\n",
        "        return self.hours_worked * self.hourly_rate\n",
        "\n",
        "class Manager(Employee):\n",
        "    def __init__(self, name, hours_worked, hourly_rate, bonus):\n",
        "\n",
        "        super().__init__(name, hours_worked, hourly_rate)\n",
        "        self.bonus = bonus\n",
        "\n",
        "    def calculate_salary(self):\n",
        "\n",
        "        base_salary = super().calculate_salary()\n",
        "        return base_salary + self.bonus\n",
        "\n",
        "\n",
        "employee1 = Employee(\"kanika bisht\", 160, 25)\n",
        "print(f\"{employee1.name}'s salary: Rs.{employee1.calculate_salary()}\")\n",
        "\n",
        "manager1 = Manager(\"Alice \", 160, 30, 2000)\n",
        "print(f\"{manager1.name}'s salary: Rs.{manager1.calculate_salary()}\")\n"
      ],
      "metadata": {
        "colab": {
          "base_uri": "https://localhost:8080/"
        },
        "id": "vhJmxbcu6tFd",
        "outputId": "fd5717c3-2ff9-42e8-e5ff-172fcd1ae0ab"
      },
      "execution_count": null,
      "outputs": [
        {
          "output_type": "stream",
          "name": "stdout",
          "text": [
            "kanika bisht's salary: Rs.4000\n",
            "Alice 's salary: Rs.6800\n"
          ]
        }
      ]
    },
    {
      "cell_type": "markdown",
      "source": [
        "15. Create a class Product with attributes name, price, and quantity. Implement a method total_price() that calculates the total price of the product."
      ],
      "metadata": {
        "id": "ipqe6pUm7N0T"
      }
    },
    {
      "cell_type": "code",
      "source": [
        "class Product:\n",
        "    def __init__(self, name, price, quantity):\n",
        "\n",
        "        self.name = name\n",
        "        self.price = price\n",
        "        self.quantity = quantity\n",
        "\n",
        "    def total_price(self):\n",
        "\n",
        "        return self.price * self.quantity\n",
        "\n",
        "product1 = Product(\"Laptop\", 10000, 90)\n",
        "\n",
        "print(f\"The total price for {product1.quantity} {product1.name}(s) is: Rs.{product1.total_price()}\")\n",
        "\n",
        "product2 = Product(\"Phone\", 5000, 20)\n",
        "\n",
        "print(f\"The total price for {product2.quantity} {product2.name}(s) is: Rs.{product2.total_price()}\")\n"
      ],
      "metadata": {
        "colab": {
          "base_uri": "https://localhost:8080/"
        },
        "id": "pMZ3L7rA7G2F",
        "outputId": "8ae8a1bd-4305-444e-ce81-a1d01a56d598"
      },
      "execution_count": null,
      "outputs": [
        {
          "output_type": "stream",
          "name": "stdout",
          "text": [
            "The total price for 90 Laptop(s) is: Rs.900000\n",
            "The total price for 20 Phone(s) is: Rs.100000\n"
          ]
        }
      ]
    },
    {
      "cell_type": "markdown",
      "source": [
        "16. Create a class Animal with an abstract method sound(). Create two derived classes Cow and Sheep that implement the sound() method."
      ],
      "metadata": {
        "id": "FDMFVKQL8c9K"
      }
    },
    {
      "cell_type": "code",
      "source": [
        "\n",
        "class Animal(ABC):\n",
        "    @abstractmethod\n",
        "    def sound(self):\n",
        "        \"\"\"Abstract method to make sound, must be implemented by subclasses.\"\"\"\n",
        "        pass\n",
        "\n",
        "class Cow(Animal):\n",
        "    def sound(self):\n",
        "        return \"Moo\"\n",
        "\n",
        "class Sheep(Animal):\n",
        "    def sound(self):\n",
        "        return \"Baa\"\n",
        "\n",
        "cow = Cow()\n",
        "sheep = Sheep()\n",
        "\n",
        "print(f\"The sound of a cow is: {cow.sound()}\")\n",
        "print(f\"The sound of a sheep is: {sheep.sound()}\")\n"
      ],
      "metadata": {
        "colab": {
          "base_uri": "https://localhost:8080/"
        },
        "id": "w4c7s8oA7V27",
        "outputId": "ae54a38d-dafd-4537-e57d-33479f022f55"
      },
      "execution_count": null,
      "outputs": [
        {
          "output_type": "stream",
          "name": "stdout",
          "text": [
            "The sound of a cow is: Moo\n",
            "The sound of a sheep is: Baa\n"
          ]
        }
      ]
    },
    {
      "cell_type": "markdown",
      "source": [
        "17. Create a class Book with attributes title, author, and year_published. Add a method get_book_info() that returns a formatted string with the book's details."
      ],
      "metadata": {
        "id": "EsrA6Zrd9JlR"
      }
    },
    {
      "cell_type": "code",
      "source": [
        "class Book:\n",
        "    def __init__(self, title, author, year_published):\n",
        "        \"\"\"Initialize the book with title, author, and year of publication.\"\"\"\n",
        "        self.title = title\n",
        "        self.author = author\n",
        "        self.year_published = year_published\n",
        "\n",
        "    def get_book_info(self):\n",
        "        \"\"\"Return a formatted string with the book's details.\"\"\"\n",
        "        return f\"'{self.title}' by {self.author}, published in {self.year_published}\"\n",
        "\n",
        "# Example usage\n",
        "\n",
        "# Create an instance of the Book class\n",
        "book1 = Book(\"1984\", \"George Orwell\", 1949)\n",
        "\n",
        "# Get and print the book's information\n",
        "print(book1.get_book_info())\n",
        "\n",
        "# Create another instance of the Book class\n",
        "book2 = Book(\"To Kill a Mockingbird\", \"Harper Lee\", 1960)\n",
        "\n",
        "# Get and print the book's information\n",
        "print(book2.get_book_info())\n"
      ],
      "metadata": {
        "colab": {
          "base_uri": "https://localhost:8080/"
        },
        "id": "J8miWVEW9KEL",
        "outputId": "4c8036f5-0e6e-43cf-ada5-05df8771264b"
      },
      "execution_count": null,
      "outputs": [
        {
          "output_type": "stream",
          "name": "stdout",
          "text": [
            "'1984' by George Orwell, published in 1949\n",
            "'To Kill a Mockingbird' by Harper Lee, published in 1960\n"
          ]
        }
      ]
    },
    {
      "cell_type": "markdown",
      "source": [
        "18. Create a class House with attributes address and price. Create a derived class Mansion that adds an attribute number_of_rooms."
      ],
      "metadata": {
        "id": "0ybvurMe9Ke_"
      }
    },
    {
      "cell_type": "code",
      "source": [
        "\n",
        "class House:\n",
        "    def __init__(self, address, price):\n",
        "        \"\"\"Initialize the house with address and price.\"\"\"\n",
        "        self.address = address\n",
        "        self.price = price\n",
        "\n",
        "    def get_house_info(self):\n",
        "\n",
        "        return f\"Address: {self.address}, Price: Rs.{self.price}\"\n",
        "\n",
        "class Mansion(House):\n",
        "    def __init__(self, address, price, number_of_rooms):\n",
        "\n",
        "        super().__init__(address, price)\n",
        "        self.number_of_rooms = number_of_rooms\n",
        "\n",
        "    def get_mansion_info(self):\n",
        "\n",
        "        house_info = self.get_house_info()\n",
        "        return f\"{house_info}, Number of Rooms: {self.number_of_rooms}\"\n",
        "\n",
        "house = House(\"123 main road \", 250000)\n",
        "print(house.get_house_info())\n",
        "\n",
        "mansion = Mansion(\"456 Luxury Ln\", 5000000, 12)\n",
        "print(mansion.get_mansion_info())\n"
      ],
      "metadata": {
        "colab": {
          "base_uri": "https://localhost:8080/"
        },
        "id": "XzMASwcn9tzt",
        "outputId": "515a7b88-ec96-4903-c657-e9c56edac0d4"
      },
      "execution_count": null,
      "outputs": [
        {
          "output_type": "stream",
          "name": "stdout",
          "text": [
            "Address: 123 main road , Price: Rs.250000\n",
            "Address: 456 Luxury Ln, Price: Rs.5000000, Number of Rooms: 12\n"
          ]
        }
      ]
    }
  ]
}