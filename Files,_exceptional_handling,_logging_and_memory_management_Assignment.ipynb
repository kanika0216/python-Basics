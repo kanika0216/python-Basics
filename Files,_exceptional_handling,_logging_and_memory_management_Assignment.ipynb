{
  "nbformat": 4,
  "nbformat_minor": 0,
  "metadata": {
    "colab": {
      "provenance": [],
      "authorship_tag": "ABX9TyNUcsNlrSHgrSTMGZ+K6Ckl",
      "include_colab_link": true
    },
    "kernelspec": {
      "name": "python3",
      "display_name": "Python 3"
    },
    "language_info": {
      "name": "python"
    }
  },
  "cells": [
    {
      "cell_type": "markdown",
      "metadata": {
        "id": "view-in-github",
        "colab_type": "text"
      },
      "source": [
        "<a href=\"https://colab.research.google.com/github/kanika0216/python-Basics/blob/main/Files%2C_exceptional_handling%2C_logging_and_memory_management_Assignment.ipynb\" target=\"_parent\"><img src=\"https://colab.research.google.com/assets/colab-badge.svg\" alt=\"Open In Colab\"/></a>"
      ]
    },
    {
      "cell_type": "markdown",
      "source": [
        "**THEORITICAL QUESTIONS**"
      ],
      "metadata": {
        "id": "uT862LfF3_qN"
      }
    },
    {
      "cell_type": "markdown",
      "source": [
        "1. What is the difference between interpreted and compiled languages?\n",
        "- Compiled languages translate code into machine code before execution for faster performance, while interpreted languages execute code line-by-line at runtime, offering flexibility but usually slower performance."
      ],
      "metadata": {
        "id": "R2a4pP5w3_sz"
      }
    },
    {
      "cell_type": "markdown",
      "source": [
        "2. What is exception handling in Python?\n",
        "- Exception handling in Python uses `try`, `except`, `else`, and `finally` blocks to manage errors and ensure graceful program execution."
      ],
      "metadata": {
        "id": "wubuDbm-3_vZ"
      }
    },
    {
      "cell_type": "markdown",
      "source": [
        "3. What is the purpose of the finally block in exception handling?\n",
        "- The `finally` block in exception handling ensures that the code within it is executed regardless of whether an exception was raised or not, often used for cleanup tasks like closing files or releasing resources."
      ],
      "metadata": {
        "id": "L3XTJvm03_x6"
      }
    },
    {
      "cell_type": "markdown",
      "source": [
        "4. What is logging in Python?\n",
        "- Logging in Python is a way to track and record events, errors, or informational messages during program execution, using the `logging` module to provide configurable output levels (e.g., DEBUG, INFO, WARNING, ERROR, CRITICAL)."
      ],
      "metadata": {
        "id": "FESMtTyt3_0W"
      }
    },
    {
      "cell_type": "markdown",
      "source": [
        "5. What is the significance of the __del__ method in Python?\n",
        "- The `__del__` method in Python is a special method used for object cleanup, called when an object is about to be destroyed, typically when it goes out of scope or is explicitly deleted, allowing for resource deallocation like closing files or network connections."
      ],
      "metadata": {
        "id": "H3D6qz2u3_2y"
      }
    },
    {
      "cell_type": "markdown",
      "source": [
        "6. What is the difference between import and from ... import in Python?\n",
        "- `import` loads the entire module, whereas `from ... import` allows you to import specific attributes or functions from a module directly, making them available without the module prefix.\n",
        "\n",
        "     Example:\n",
        "- `import math` → Use as `math.sqrt()`\n",
        "- `from math import sqrt` → Use directly as `sqrt()`"
      ],
      "metadata": {
        "id": "UJe4N6MW3_5j"
      }
    },
    {
      "cell_type": "markdown",
      "source": [
        "7. How can you handle multiple exceptions in Python?\n",
        "- You can handle multiple exceptions using a tuple in a single `except` block or by using multiple `except` blocks."
      ],
      "metadata": {
        "id": "i8VJOPp63_76"
      }
    },
    {
      "cell_type": "markdown",
      "source": [
        "8. What is the purpose of the with statement when handling files in Python?\n",
        "- The `with` statement ensures that files are properly opened and automatically closed after the block of code is executed, even if an exception occurs."
      ],
      "metadata": {
        "id": "9H9ajKm23_-m"
      }
    },
    {
      "cell_type": "markdown",
      "source": [
        "9. What is the difference between multithreading and multiprocessing?\n",
        "- **Multithreading** uses multiple threads within a single process to perform tasks concurrently, sharing the same memory space, while **multiprocessing** uses multiple processes, each with its own memory space, to achieve parallelism."
      ],
      "metadata": {
        "id": "oyPDa6AR4ABO"
      }
    },
    {
      "cell_type": "markdown",
      "source": [
        "10. What are the advantages of using logging in a program?\n",
        "- Using logging in a program allows you to track events, errors, and execution flow, provides a way to diagnose issues in production, enables configurable log levels, and helps with auditing and debugging without interrupting program flow."
      ],
      "metadata": {
        "id": "YMT1hyXp4ADu"
      }
    },
    {
      "cell_type": "markdown",
      "source": [
        "11. What is memory management in Python?\n",
        "- Memory management in Python involves automatically handling memory allocation and deallocation for objects, primarily through reference counting and garbage collection to free unused memory."
      ],
      "metadata": {
        "id": "-Vvod2i34AGc"
      }
    },
    {
      "cell_type": "markdown",
      "source": [
        "12. What are the basic steps involved in exception handling in Python?\n",
        "- The basic steps in exception handling in Python are:\n",
        "\n",
        "1. **`try`**: Write the code that may raise an exception.\n",
        "2. **`except`**: Handle the exception if it occurs.\n",
        "3. **`else`**: (Optional) Execute code if no exception occurs.\n",
        "4. **`finally`**: (Optional) Execute cleanup code, regardless of exception."
      ],
      "metadata": {
        "id": "Y-d4Tmlh4AJQ"
      }
    },
    {
      "cell_type": "markdown",
      "source": [
        "13. Why is memory management important in Python?\n",
        "- Memory management is important in Python because it ensures efficient use of system resources, prevents memory leaks, and optimizes performance by automatically allocating and deallocating memory, allowing the program to run smoothly and avoid excessive resource consumption."
      ],
      "metadata": {
        "id": "QQMXUTwe4AMF"
      }
    },
    {
      "cell_type": "markdown",
      "source": [
        "14. What is the role of try and except in exception handling?\n",
        "- The **`try`** block contains code that might raise an exception, while the **`except`** block handles the exception if it occurs, allowing the program to continue running without crashing."
      ],
      "metadata": {
        "id": "TPeT-bin4APS"
      }
    },
    {
      "cell_type": "markdown",
      "source": [
        "15. How does Python's garbage collection system work?\n",
        "- Python's garbage collection system works by using **reference counting** to track object references and automatically freeing memory when an object's reference count reaches zero. Additionally, it uses a **cyclic garbage collector** to detect and clean up reference cycles (objects that reference each other, preventing their reference count from reaching zero)."
      ],
      "metadata": {
        "id": "2SF2YX_s4ASE"
      }
    },
    {
      "cell_type": "markdown",
      "source": [
        "16. What is the purpose of the else block in exception handling?\n",
        "- The `else` block in exception handling is executed if no exception is raised in the `try` block, allowing you to run code that should only execute when the `try` block is successful."
      ],
      "metadata": {
        "id": "YhIkrv_F4AU2"
      }
    },
    {
      "cell_type": "markdown",
      "source": [
        "17. What are the common logging levels in Python?\n",
        "- The common logging levels in Python are:\n",
        "\n",
        "1. **DEBUG**: Detailed information, typically useful for diagnosing problems.\n",
        "2. **INFO**: General information about the program’s execution.\n",
        "3. **WARNING**: Indications of potential issues or unusual situations.\n",
        "4. **ERROR**: Errors that prevent the program from performing a specific task.\n",
        "5. **CRITICAL**: Severe errors that may cause the program to stop."
      ],
      "metadata": {
        "id": "ZCpc46X24AaC"
      }
    },
    {
      "cell_type": "markdown",
      "source": [
        "18.  What is the difference between os.fork() and multiprocessing in Python?\n",
        "- **`os.fork()`** creates a child process that shares memory, while **`multiprocessing`** creates independent processes with separate memory."
      ],
      "metadata": {
        "id": "bu8E62jW4Ac-"
      }
    },
    {
      "cell_type": "markdown",
      "source": [
        "19. What is the importance of closing a file in Python?\n",
        "- Closing a file in Python ensures that all changes are saved, resources are released, and the file is properly freed for other processes."
      ],
      "metadata": {
        "id": "S8gLS58T4Af8"
      }
    },
    {
      "cell_type": "markdown",
      "source": [
        "20- What is the difference between file.read() and file.readline() in Python?\n",
        "- `file.read()` reads the entire file content at once, while `file.readline()` reads the file line by line."
      ],
      "metadata": {
        "id": "GBIiaOZZ4Aik"
      }
    },
    {
      "cell_type": "markdown",
      "source": [
        "21. What is the logging module in Python used for?\n",
        "- The `logging` module in Python is used to record log messages, track events, errors, and debugging information, providing a flexible way to output messages with different severity levels."
      ],
      "metadata": {
        "id": "Uzof7m7b4AlX"
      }
    },
    {
      "cell_type": "markdown",
      "source": [
        "22. What is the os module in Python used for in file handling?\n",
        "- The `os` module in Python is used for interacting with the operating system, providing functions to create, delete, and manipulate files and directories, as well as handle file paths and permissions."
      ],
      "metadata": {
        "id": "iIbqxIVp4An-"
      }
    },
    {
      "cell_type": "markdown",
      "source": [
        "23. What are the challenges associated with memory management in Python?\n",
        "- Challenges in Python's memory management include reference cycles, memory overhead due to dynamic typing, and the need for manual management of non-memory resources like files."
      ],
      "metadata": {
        "id": "3r8KIzU_4Aqh"
      }
    },
    {
      "cell_type": "markdown",
      "source": [
        "24. How do you raise an exception manually in Python?\n",
        "- You can raise an exception manually using the `raise` keyword."
      ],
      "metadata": {
        "id": "NNtXOTui4AtG"
      }
    },
    {
      "cell_type": "markdown",
      "source": [
        "25. Why is it important to use multithreading in certain applications?\n",
        "- Multithreading is important in certain applications to improve performance by allowing concurrent execution of tasks, such as handling I/O operations, improving responsiveness, and making better use of CPU resources in programs that involve waiting or multiple simultaneous tasks."
      ],
      "metadata": {
        "id": "np8Q8Fx64Av4"
      }
    },
    {
      "cell_type": "markdown",
      "source": [
        "**Practical Questions**"
      ],
      "metadata": {
        "id": "V5UjBnfa4Ayo"
      }
    },
    {
      "cell_type": "markdown",
      "source": [
        "1.  How can you open a file for writing in Python and write a string to it?"
      ],
      "metadata": {
        "id": "p8GroHIZ8CbL"
      }
    },
    {
      "cell_type": "code",
      "source": [
        "with open('file.txt', 'w') as file:\n",
        "    file.write(\"Hello, World!\")"
      ],
      "metadata": {
        "id": "7o6HLrfi8BuP"
      },
      "execution_count": 1,
      "outputs": []
    },
    {
      "cell_type": "markdown",
      "source": [
        "2. Write a Python program to read the contents of a file and print each line.\n",
        "\n"
      ],
      "metadata": {
        "id": "aXZex5Q48EEm"
      }
    },
    {
      "cell_type": "code",
      "source": [
        "with open('file.txt', 'r') as file:\n",
        "    for line in file:\n",
        "        print(line, end='')"
      ],
      "metadata": {
        "colab": {
          "base_uri": "https://localhost:8080/"
        },
        "id": "qNIJ487N8EVB",
        "outputId": "f4060391-953d-4c9a-f747-a8198103d506"
      },
      "execution_count": 2,
      "outputs": [
        {
          "output_type": "stream",
          "name": "stdout",
          "text": [
            "Hello, World!"
          ]
        }
      ]
    },
    {
      "cell_type": "markdown",
      "source": [
        "3. How would you handle a case where the file doesn't exist while trying to open it for reading?"
      ],
      "metadata": {
        "id": "PXd9rgJm8EZY"
      }
    },
    {
      "cell_type": "code",
      "source": [
        "try:\n",
        "    with open('file.txt', 'r') as file:\n",
        "        for line in file:\n",
        "            print(line, end='')\n",
        "except FileNotFoundError:\n",
        "    print(\"File not found.\")"
      ],
      "metadata": {
        "colab": {
          "base_uri": "https://localhost:8080/"
        },
        "id": "PbwgMLAL8EeE",
        "outputId": "2a37e580-10ac-4b46-b222-280bcf03577d"
      },
      "execution_count": 3,
      "outputs": [
        {
          "output_type": "stream",
          "name": "stdout",
          "text": [
            "Hello, World!"
          ]
        }
      ]
    },
    {
      "cell_type": "markdown",
      "source": [
        "4. Write a Python script that reads from one file and writes its content to another file."
      ],
      "metadata": {
        "id": "M4pp6hhD8Eig"
      }
    },
    {
      "cell_type": "code",
      "source": [
        "with open('source.txt', 'r') as src_file:\n",
        "    with open('destination.txt', 'w') as dest_file:\n",
        "        dest_file.write(src_file.read())"
      ],
      "metadata": {
        "id": "7EZ6N1-X9cUd"
      },
      "execution_count": null,
      "outputs": []
    },
    {
      "cell_type": "markdown",
      "source": [
        "5. How would you catch and handle division by zero error in Python?"
      ],
      "metadata": {
        "id": "9srHeTd28Er0"
      }
    },
    {
      "cell_type": "code",
      "source": [
        "try:\n",
        "    result = 10 / 0\n",
        "except ZeroDivisionError:\n",
        "    print(\"Cannot divide by zero.\")"
      ],
      "metadata": {
        "colab": {
          "base_uri": "https://localhost:8080/"
        },
        "id": "xNNgJdUF8EwM",
        "outputId": "17649fd0-467c-4430-b7c7-b26fd914630f"
      },
      "execution_count": 5,
      "outputs": [
        {
          "output_type": "stream",
          "name": "stdout",
          "text": [
            "Cannot divide by zero.\n"
          ]
        }
      ]
    },
    {
      "cell_type": "markdown",
      "source": [
        "6. Write a Python program that logs an error message to a log file when a division by zero exception occurs."
      ],
      "metadata": {
        "id": "LDUpCiFG8E06"
      }
    },
    {
      "cell_type": "code",
      "source": [
        "import logging\n",
        "\n",
        "logging.basicConfig(filename='error.log', level=logging.ERROR)\n",
        "\n",
        "try:\n",
        "    result = 10 / 0\n",
        "except ZeroDivisionError as e:\n",
        "    logging.error(f\"Error occurred: {e}\")"
      ],
      "metadata": {
        "colab": {
          "base_uri": "https://localhost:8080/"
        },
        "id": "z7y5H5Vo8E5s",
        "outputId": "6ffd7be6-6b1f-4c44-e8cc-1431a46b5709"
      },
      "execution_count": 6,
      "outputs": [
        {
          "output_type": "stream",
          "name": "stderr",
          "text": [
            "ERROR:root:Error occurred: division by zero\n"
          ]
        }
      ]
    },
    {
      "cell_type": "markdown",
      "source": [
        "7. How do you log information at different levels (INFO, ERROR, WARNING) in Python using the logging module?"
      ],
      "metadata": {
        "id": "fLfkOp-p8FKb"
      }
    },
    {
      "cell_type": "code",
      "source": [
        "import logging\n",
        "\n",
        "logging.basicConfig(level=logging.DEBUG, filename='app.log')\n",
        "\n",
        "logging.debug(\"This is a debug message.\")\n",
        "logging.info(\"This is an info message.\")\n",
        "logging.warning(\"This is a warning message.\")\n",
        "logging.error(\"This is an error message.\")\n",
        "logging.critical(\"This is a critical message.\")"
      ],
      "metadata": {
        "colab": {
          "base_uri": "https://localhost:8080/"
        },
        "id": "g8657ONN8FsO",
        "outputId": "003b8683-5b79-4b84-992f-ae7898256297"
      },
      "execution_count": 7,
      "outputs": [
        {
          "output_type": "stream",
          "name": "stderr",
          "text": [
            "WARNING:root:This is a warning message.\n",
            "ERROR:root:This is an error message.\n",
            "CRITICAL:root:This is a critical message.\n"
          ]
        }
      ]
    },
    {
      "cell_type": "markdown",
      "source": [
        "8. Write a program to handle a file opening error using exception handling."
      ],
      "metadata": {
        "id": "eu478txR8FxQ"
      }
    },
    {
      "cell_type": "code",
      "source": [
        "import logging\n",
        "\n",
        "try:\n",
        "    with open('non_existent_file.txt', 'r') as file:\n",
        "        content = file.read()\n",
        "        print(content)\n",
        "except FileNotFoundError:\n",
        "    logging.error(\"Error: File not found.\")\n",
        "    print(\"Error: File not found.\")\n",
        "except Exception as e:\n",
        "    logging.exception(f\"An unexpected error occurred: {e}\")\n",
        "    print(f\"An unexpected error occurred: {e}\")"
      ],
      "metadata": {
        "colab": {
          "base_uri": "https://localhost:8080/"
        },
        "id": "uh7Q5o1J8F2A",
        "outputId": "8e726a13-4dee-4001-9955-bf1efaed0d70"
      },
      "execution_count": 8,
      "outputs": [
        {
          "output_type": "stream",
          "name": "stderr",
          "text": [
            "ERROR:root:Error: File not found.\n"
          ]
        },
        {
          "output_type": "stream",
          "name": "stdout",
          "text": [
            "Error: File not found.\n"
          ]
        }
      ]
    },
    {
      "cell_type": "markdown",
      "source": [
        "9.  How can you read a file line by line and store its content in a list in Python?"
      ],
      "metadata": {
        "id": "qo0PvXgT8F6I"
      }
    },
    {
      "cell_type": "code",
      "source": [
        "with open('file.txt', 'r') as file:\n",
        "    lines = file.readlines()"
      ],
      "metadata": {
        "id": "kKIuZ0Z58F_m"
      },
      "execution_count": 9,
      "outputs": []
    },
    {
      "cell_type": "markdown",
      "source": [
        "10. How can you append data to an existing file in Python?"
      ],
      "metadata": {
        "id": "LuDHx2dQ8GEE"
      }
    },
    {
      "cell_type": "code",
      "source": [
        "with open('file.txt', 'a') as file:\n",
        "    file.write(\"New data to append.\\n\")"
      ],
      "metadata": {
        "id": "Dh9aN5cV8GJb"
      },
      "execution_count": 10,
      "outputs": []
    },
    {
      "cell_type": "markdown",
      "source": [
        "11. Write a Python program that uses a try-except block to handle an error when attempting to access a\n",
        "dictionary key that doesn't exist."
      ],
      "metadata": {
        "id": "NqPXGgCl8GOK"
      }
    },
    {
      "cell_type": "code",
      "source": [
        "my_dict = {'a': 1, 'b': 2}\n",
        "\n",
        "try:\n",
        "    value = my_dict['c']\n",
        "except KeyError:\n",
        "    print(\"Key does not exist in the dictionary.\")"
      ],
      "metadata": {
        "colab": {
          "base_uri": "https://localhost:8080/"
        },
        "id": "AZ9WswLu8GTW",
        "outputId": "938ba9a4-c67b-426c-923f-06edc47b127c"
      },
      "execution_count": 11,
      "outputs": [
        {
          "output_type": "stream",
          "name": "stdout",
          "text": [
            "Key does not exist in the dictionary.\n"
          ]
        }
      ]
    },
    {
      "cell_type": "markdown",
      "source": [
        "12. Write a program that demonstrates using multiple except blocks to handle different types of exceptions."
      ],
      "metadata": {
        "id": "lNYheHUg8GX2"
      }
    },
    {
      "cell_type": "code",
      "source": [
        "try:\n",
        "    x = int(input(\"Enter a number: \"))\n",
        "    result = 10 / x\n",
        "except (ValueError, ZeroDivisionError) as e:\n",
        "    print(f\"Error: {e}\")\n",
        "except Exception as e:\n",
        "    print(f\"Unexpected error: {e}\")"
      ],
      "metadata": {
        "colab": {
          "base_uri": "https://localhost:8080/"
        },
        "id": "XscIS-R98Gcu",
        "outputId": "39d063d4-a6e0-4164-ce7d-fbbbfaa5b9c0"
      },
      "execution_count": 14,
      "outputs": [
        {
          "name": "stdout",
          "output_type": "stream",
          "text": [
            "Enter a number: 2\n"
          ]
        }
      ]
    },
    {
      "cell_type": "markdown",
      "source": [
        "13. How would you check if a file exists before attempting to read it in Python?"
      ],
      "metadata": {
        "id": "3wgw_L7v-m-P"
      }
    },
    {
      "cell_type": "code",
      "source": [
        "import os\n",
        "\n",
        "if os.path.exists('file.txt'):\n",
        "    with open('file.txt', 'r') as file:\n",
        "        content = file.read()\n",
        "else:\n",
        "    print(\"File does not exist.\")"
      ],
      "metadata": {
        "id": "b8ctgQxL8GlY"
      },
      "execution_count": 15,
      "outputs": []
    },
    {
      "cell_type": "markdown",
      "source": [
        "14. Write a program that uses the logging module to log both informational and error messages."
      ],
      "metadata": {
        "id": "TktZGVp08Gpu"
      }
    },
    {
      "cell_type": "code",
      "source": [
        "import logging\n",
        "\n",
        "logging.basicConfig(level=logging.DEBUG, filename='app.log')\n",
        "\n",
        "logging.info(\"This is an informational message.\")\n",
        "logging.error(\"This is an error message.\")"
      ],
      "metadata": {
        "colab": {
          "base_uri": "https://localhost:8080/"
        },
        "id": "984ivBRD8Gub",
        "outputId": "04316c83-de8c-451d-98b5-ab24e3b62fff"
      },
      "execution_count": 16,
      "outputs": [
        {
          "output_type": "stream",
          "name": "stderr",
          "text": [
            "ERROR:root:This is an error message.\n"
          ]
        }
      ]
    },
    {
      "cell_type": "markdown",
      "source": [
        "15. Write a Python program that prints the content of a file and handles the case when the file is empty."
      ],
      "metadata": {
        "id": "nAgGwopP8GzW"
      }
    },
    {
      "cell_type": "code",
      "source": [
        "try:\n",
        "    with open('file.txt', 'r') as file:\n",
        "        content = file.read()\n",
        "        if content:\n",
        "            print(content)\n",
        "        else:\n",
        "            print(\"The file is empty.\")\n",
        "except FileNotFoundError:\n",
        "    print(\"The file does not exist.\")"
      ],
      "metadata": {
        "colab": {
          "base_uri": "https://localhost:8080/"
        },
        "id": "SROswGwR8G31",
        "outputId": "0b16a73c-4be5-4e70-f2b0-8a8465c0f3ce"
      },
      "execution_count": 17,
      "outputs": [
        {
          "output_type": "stream",
          "name": "stdout",
          "text": [
            "Hello, World!New data to append.\n",
            "\n"
          ]
        }
      ]
    },
    {
      "cell_type": "markdown",
      "source": [
        "16. Demonstrate how to use memory profiling to check the memory usage of a small program."
      ],
      "metadata": {
        "id": "urf7tUX88G8j"
      }
    },
    {
      "cell_type": "code",
      "source": [
        "#pip install memory-profiler\n",
        "from memory_profiler import profile\n",
        "\n",
        "@profile\n",
        "def my_function():\n",
        "    a = [i for i in range(1000000)]\n",
        "    b = [i * 2 for i in range(1000000)]\n",
        "    return a, b\n",
        "\n",
        "if __name__ == \"__main__\":\n",
        "    my_function()\n",
        "#python -m memory_profiler your_script.py"
      ],
      "metadata": {
        "id": "QwVbcYtf_LRA"
      },
      "execution_count": null,
      "outputs": []
    },
    {
      "cell_type": "markdown",
      "source": [
        "17.  Write a Python program to create and write a list of numbers to a file, one number per line."
      ],
      "metadata": {
        "id": "4UDSHEmI8HFp"
      }
    },
    {
      "cell_type": "code",
      "source": [
        "numbers = [1, 2, 3, 4, 5]\n",
        "\n",
        "with open('numbers.txt', 'w') as file:\n",
        "    for number in numbers:\n",
        "        file.write(f\"{number}\\n\")"
      ],
      "metadata": {
        "id": "OsEIOw2H8HOg"
      },
      "execution_count": null,
      "outputs": []
    },
    {
      "cell_type": "markdown",
      "source": [
        "18.  How would you implement a basic logging setup that logs to a file with rotation after 1MB?"
      ],
      "metadata": {
        "id": "pjZUPCkp8Hqe"
      }
    },
    {
      "cell_type": "code",
      "source": [
        "import logging\n",
        "from logging.handlers import RotatingFileHandler\n",
        "\n",
        "handler = RotatingFileHandler('app.log', maxBytes=1e6, backupCount=3)\n",
        "handler.setLevel(logging.INFO)\n",
        "\n",
        "formatter = logging.Formatter('%(asctime)s - %(levelname)s - %(message)s')\n",
        "handler.setFormatter(formatter)\n",
        "\n",
        "logger = logging.getLogger()\n",
        "logger.setLevel(logging.INFO)\n",
        "logger.addHandler(handler)\n",
        "\n",
        "logger.info(\"This is an info message.\")\n",
        "logger.error(\"This is an error message.\")"
      ],
      "metadata": {
        "colab": {
          "base_uri": "https://localhost:8080/"
        },
        "id": "tiCbU6ns_wB-",
        "outputId": "f7577a44-7b05-4819-8f4a-764e42a10d01"
      },
      "execution_count": 19,
      "outputs": [
        {
          "output_type": "stream",
          "name": "stderr",
          "text": [
            "INFO:root:This is an info message.\n",
            "ERROR:root:This is an error message.\n"
          ]
        }
      ]
    },
    {
      "cell_type": "markdown",
      "source": [
        "19. Write a program that handles both IndexError and KeyError using a try-except block."
      ],
      "metadata": {
        "id": "HEzbYkfQ_3gt"
      }
    },
    {
      "cell_type": "code",
      "source": [
        "my_list = [1, 2, 3]\n",
        "my_dict = {'a': 1, 'b': 2}\n",
        "\n",
        "try:\n",
        "    print(my_list[5])\n",
        "    print(my_dict['c'])\n",
        "except (IndexError, KeyError) as e:\n",
        "    print(f\"Error occurred: {e}\")"
      ],
      "metadata": {
        "colab": {
          "base_uri": "https://localhost:8080/"
        },
        "id": "xlbUfJFU_2ip",
        "outputId": "2a8a4951-2001-4094-eda8-38b4d11784db"
      },
      "execution_count": 20,
      "outputs": [
        {
          "output_type": "stream",
          "name": "stdout",
          "text": [
            "Error occurred: list index out of range\n"
          ]
        }
      ]
    },
    {
      "cell_type": "markdown",
      "source": [
        "20. How would you open a file and read its contents using a context manager in Python?"
      ],
      "metadata": {
        "id": "5PYrzo2Z_-sq"
      }
    },
    {
      "cell_type": "code",
      "source": [
        "with open('file.txt', 'r') as file:\n",
        "    content = file.read()\n",
        "    print(content)"
      ],
      "metadata": {
        "colab": {
          "base_uri": "https://localhost:8080/"
        },
        "id": "vJCHMvi8_9u3",
        "outputId": "12064888-e1f7-4e25-b24d-0e45b302c5ff"
      },
      "execution_count": 21,
      "outputs": [
        {
          "output_type": "stream",
          "name": "stdout",
          "text": [
            "Hello, World!New data to append.\n",
            "\n"
          ]
        }
      ]
    },
    {
      "cell_type": "markdown",
      "source": [
        "21. Write a Python program that reads a file and prints the number of occurrences of a specific word."
      ],
      "metadata": {
        "id": "RBtCY8FJAFnF"
      }
    },
    {
      "cell_type": "code",
      "source": [
        "word_to_find = \"example\"\n",
        "count = 0\n",
        "\n",
        "with open('file.txt', 'r') as file:\n",
        "    for line in file:\n",
        "        count += line.lower().split().count(word_to_find.lower())\n",
        "\n",
        "print(f\"The word '{word_to_find}' occurred {count} times.\")"
      ],
      "metadata": {
        "colab": {
          "base_uri": "https://localhost:8080/"
        },
        "id": "M1_QPVccAEnb",
        "outputId": "6ef0c371-f9c9-4044-89af-f786311c138f"
      },
      "execution_count": 22,
      "outputs": [
        {
          "output_type": "stream",
          "name": "stdout",
          "text": [
            "The word 'example' occurred 0 times.\n"
          ]
        }
      ]
    },
    {
      "cell_type": "markdown",
      "source": [
        "22. How can you check if a file is empty before attempting to read its contents?"
      ],
      "metadata": {
        "id": "_8PExGUyAMcZ"
      }
    },
    {
      "cell_type": "code",
      "source": [
        "import os\n",
        "\n",
        "if os.path.getsize('file.txt') > 0:\n",
        "    with open('file.txt', 'r') as file:\n",
        "        content = file.read()\n",
        "        print(content)\n",
        "else:\n",
        "    print(\"The file is empty.\")"
      ],
      "metadata": {
        "colab": {
          "base_uri": "https://localhost:8080/"
        },
        "id": "9t00gdOpALS4",
        "outputId": "da005f07-f42f-4222-c62c-09e57af75e1b"
      },
      "execution_count": 23,
      "outputs": [
        {
          "output_type": "stream",
          "name": "stdout",
          "text": [
            "Hello, World!New data to append.\n",
            "\n"
          ]
        }
      ]
    },
    {
      "cell_type": "markdown",
      "source": [
        "23. Write a Python program that writes to a log file when an error occurs during file handling."
      ],
      "metadata": {
        "id": "D33Be57_Adql"
      }
    },
    {
      "cell_type": "code",
      "source": [
        "import logging\n",
        "\n",
        "logging.basicConfig(filename='file_errors.log', level=logging.ERROR)\n",
        "\n",
        "try:\n",
        "    with open('non_existent_file.txt', 'r') as file:\n",
        "        content = file.read()\n",
        "except Exception as e:\n",
        "    logging.error(f\"Error occurred: {e}\")"
      ],
      "metadata": {
        "colab": {
          "base_uri": "https://localhost:8080/"
        },
        "id": "yIcBksNFAS_S",
        "outputId": "b7b64e45-f487-4900-f96d-03a9d9c42531"
      },
      "execution_count": 24,
      "outputs": [
        {
          "output_type": "stream",
          "name": "stderr",
          "text": [
            "ERROR:root:Error occurred: [Errno 2] No such file or directory: 'non_existent_file.txt'\n"
          ]
        }
      ]
    }
  ]
}