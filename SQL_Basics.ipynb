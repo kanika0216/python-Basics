{
  "nbformat": 4,
  "nbformat_minor": 0,
  "metadata": {
    "colab": {
      "provenance": [],
      "authorship_tag": "ABX9TyPj7frRU3k2i4b2AFjE1iBI",
      "include_colab_link": true
    },
    "kernelspec": {
      "name": "python3",
      "display_name": "Python 3"
    },
    "language_info": {
      "name": "python"
    }
  },
  "cells": [
    {
      "cell_type": "markdown",
      "metadata": {
        "id": "view-in-github",
        "colab_type": "text"
      },
      "source": [
        "<a href=\"https://colab.research.google.com/github/kanika0216/python-Basics/blob/main/SQL_Basics.ipynb\" target=\"_parent\"><img src=\"https://colab.research.google.com/assets/colab-badge.svg\" alt=\"Open In Colab\"/></a>"
      ]
    },
    {
      "cell_type": "markdown",
      "source": [
        "Que 1: Create a table called employees with the specified constraints"
      ],
      "metadata": {
        "id": "yOeqTdMgD6xh"
      }
    },
    {
      "cell_type": "code",
      "source": [
        "CREATE TABLE employees (\n",
        "    emp_id INT PRIMARY KEY NOT NULL,\n",
        "    emp_name TEXT NOT NULL,\n",
        "    age INT CHECK (age >= 18),\n",
        "    email TEXT UNIQUE,\n",
        "    salary DECIMAL DEFAULT 30000\n",
        ");\n"
      ],
      "metadata": {
        "id": "tFX00M7tEShX"
      },
      "execution_count": null,
      "outputs": []
    },
    {
      "cell_type": "markdown",
      "source": [
        "Que 2: Explain the purpose of constraints and how they help maintain data integrity\n",
        "\n",
        "Ans:\n",
        "Constraints ensure the accuracy and reliability of data in a table. They restrict the type of data that can be stored.\n",
        "Examples:\n",
        "\n",
        "*PRIMARY KEY ensures uniqueness.\n",
        "\n",
        "*NOT NULL prevents missing values.\n",
        "\n",
        "*UNIQUE ensures no duplicate entries.\n",
        "\n",
        "*CHECK ensures valid data range.\n",
        "\n",
        "*FOREIGN KEY maintains referential integrity between tables."
      ],
      "metadata": {
        "id": "6quJTPVzET9_"
      }
    },
    {
      "cell_type": "markdown",
      "source": [
        "Que 3: Why use NOT NULL and can a primary key contain NULL?\n",
        "\n",
        "Ans:\n",
        "NOT NULL ensures that a column must have a value. A PRIMARY KEY cannot contain NULL because it must uniquely identify each row, and NULL means unknown or missing."
      ],
      "metadata": {
        "id": "wMc1hT_7EV6c"
      }
    },
    {
      "cell_type": "markdown",
      "source": [
        "Que 4: Add or remove constraints on an existing table\n",
        "\n",
        "Ans:\n",
        "To add a constraint:\n",
        "ALTER TABLE employees ADD CONSTRAINT check_age CHECK (age >= 18);\n",
        "\n",
        "To remove a constraint (name must be known):\n",
        "ALTER TABLE employees DROP CONSTRAINT check_age;"
      ],
      "metadata": {
        "id": "1ZMs6Kl-EpQG"
      }
    },
    {
      "cell_type": "markdown",
      "source": [
        "Que 5: Consequences of constraint violations with example\n",
        "\n",
        "Ans:\n",
        "If constraints are violated, the database throws an error and rejects the operation.\n",
        "\n",
        "Example:\n",
        "\n",
        "Trying to insert a NULL in a NOT NULL column will throw:\n",
        "ERROR: null value in column \"emp_name\" violates not-null constraint"
      ],
      "metadata": {
        "id": "v1OODBeXE2XY"
      }
    },
    {
      "cell_type": "markdown",
      "source": [
        "Que 6: Alter products table to add constraints"
      ],
      "metadata": {
        "id": "kVtu4MWvE8v9"
      }
    },
    {
      "cell_type": "code",
      "source": [
        "ALTER TABLE products ADD PRIMARY KEY (product_id);\n",
        "ALTER TABLE products ALTER COLUMN price SET DEFAULT 50.00;\n"
      ],
      "metadata": {
        "id": "K7J9biTrE-p7"
      },
      "execution_count": null,
      "outputs": []
    },
    {
      "cell_type": "markdown",
      "source": [
        "Que 7: INNER JOIN to get student_name and class_name"
      ],
      "metadata": {
        "id": "rmIIFKUdE_d-"
      }
    },
    {
      "cell_type": "code",
      "source": [
        "SELECT s.student_name, c.class_name\n",
        "FROM students s\n",
        "INNER JOIN classes c ON s.class_id = c.class_id;\n"
      ],
      "metadata": {
        "id": "IL66w9ORFBhG"
      },
      "execution_count": null,
      "outputs": []
    },
    {
      "cell_type": "markdown",
      "source": [
        "Que 8: Show all order_id, customer_name, and product_name, ensuring all products are listed"
      ],
      "metadata": {
        "id": "H5fhhvdGFC5I"
      }
    },
    {
      "cell_type": "code",
      "source": [
        "SELECT o.order_id, c.customer_name, p.product_name\n",
        "FROM products p\n",
        "LEFT JOIN orders o ON p.product_id = o.product_id\n",
        "LEFT JOIN customers c ON o.customer_id = c.customer_id;\n"
      ],
      "metadata": {
        "id": "Sh62JXfqFEAA"
      },
      "execution_count": null,
      "outputs": []
    },
    {
      "cell_type": "markdown",
      "source": [
        "Que 9: Total sales amount for each product"
      ],
      "metadata": {
        "id": "vxcq9x5ZFFTP"
      }
    },
    {
      "cell_type": "code",
      "source": [
        "SELECT p.product_name, SUM(o.amount) AS total_sales\n",
        "FROM products p\n",
        "INNER JOIN orders o ON p.product_id = o.product_id\n",
        "GROUP BY p.product_name;\n"
      ],
      "metadata": {
        "id": "PV_RtZKEFGVb"
      },
      "execution_count": null,
      "outputs": []
    },
    {
      "cell_type": "markdown",
      "source": [
        "Que 10: Display order_id, customer_name, and quantity using INNER JOIN"
      ],
      "metadata": {
        "id": "K7uEInxBFH1T"
      }
    },
    {
      "cell_type": "code",
      "source": [
        "SELECT o.order_id, c.customer_name, od.quantity\n",
        "FROM orders o\n",
        "INNER JOIN customers c ON o.customer_id = c.customer_id\n",
        "INNER JOIN order_details od ON o.order_id = od.order_id;\n"
      ],
      "metadata": {
        "id": "ODmttyMKFIpx"
      },
      "execution_count": null,
      "outputs": []
    },
    {
      "cell_type": "markdown",
      "source": [
        "**SQL Commands**"
      ],
      "metadata": {
        "id": "-sjZLI5aFm3n"
      }
    },
    {
      "cell_type": "markdown",
      "source": [
        "Que 1: Identify the primary keys and foreign keys in Maven Movies DB. Discuss the differences\n",
        "\n",
        "Ans:\n",
        "Primary keys uniquely identify each row in a table, such as film_id in the film table or customer_id in the customer table. Foreign keys establish a link between the data in two tables, such as rental.customer_id referencing customer.customer_id. Primary keys enforce entity integrity, while foreign keys enforce referential integrity.\n",
        "\n",
        "Que 2: List all details of actors\n",
        "\n",
        "Ans:\n",
        "SELECT * FROM actor;\n",
        "\n",
        "Que 3: List all customer information from DB\n",
        "\n",
        "Ans:\n",
        "SELECT * FROM customer;\n",
        "\n",
        "Que 4: List different countries\n",
        "\n",
        "Ans:\n",
        "SELECT DISTINCT country FROM country;\n",
        "\n",
        "Que 5: Display all active customers\n",
        "\n",
        "Ans:\n",
        "SELECT * FROM customer WHERE active = 1;\n",
        "\n",
        "Que 6: List of all rental IDs for customer with ID 1\n",
        "\n",
        "Ans:\n",
        "SELECT rental_id FROM rental WHERE customer_id = 1;\n",
        "\n",
        "Que 7: Display all the films whose rental duration is greater than 5\n",
        "\n",
        "Ans:\n",
        "SELECT * FROM film WHERE rental_duration > 5;\n",
        "\n",
        "Que 8: List the total number of films whose replacement cost is greater than $15 and less than $20\n",
        "\n",
        "Ans:\n",
        "SELECT COUNT(*) FROM film WHERE replacement_cost > 15 AND replacement_cost < 20;\n",
        "\n",
        "Que 9: Display the count of unique first names of actors\n",
        "\n",
        "Ans:\n",
        "SELECT COUNT(DISTINCT first_name) FROM actor;\n",
        "\n",
        "Que 10: Display the first 10 records from the customer table\n",
        "\n",
        "Ans:\n",
        "SELECT * FROM customer LIMIT 10;\n",
        "\n",
        "Que 11: Display the first 3 records from the customer table whose first name starts with ‘b’\n",
        "\n",
        "Ans:\n",
        "SELECT * FROM customer WHERE first_name ILIKE 'b%' LIMIT 3;\n",
        "\n",
        "Que 12: Display the names of the first 5 movies which are rated as ‘G’\n",
        "\n",
        "Ans:\n",
        "SELECT title FROM film WHERE rating = 'G' LIMIT 5;\n",
        "\n",
        "Que 13: Find all customers whose first name starts with \"a\"\n",
        "\n",
        "Ans:\n",
        "SELECT * FROM customer WHERE first_name ILIKE 'a%';\n",
        "\n",
        "Que 14: Find all customers whose first name ends with \"a\"\n",
        "\n",
        "Ans:\n",
        "SELECT * FROM customer WHERE first_name ILIKE '%a';\n",
        "\n",
        "Que 15: Display the list of first 4 cities which start and end with ‘a’\n",
        "\n",
        "Ans:\n",
        "SELECT city FROM city WHERE city ILIKE 'a%a' LIMIT 4;\n",
        "\n",
        "Que 16: Find all customers whose first name have \"NI\" in any position\n",
        "\n",
        "Ans:\n",
        "SELECT * FROM customer WHERE first_name ILIKE '%ni%';\n",
        "\n",
        "Que 17: Find all customers whose first name have \"r\" in the second position\n",
        "\n",
        "Ans:\n",
        "SELECT * FROM customer WHERE first_name ILIKE '_r%';\n",
        "\n",
        "Que 18: Find all customers whose first name starts with \"a\" and are at least 5 characters in length\n",
        "\n",
        "Ans:\n",
        "SELECT * FROM customer WHERE first_name ILIKE 'a%' AND LENGTH(first_name) >= 5;\n",
        "\n",
        "Que 19: Find all customers whose first name starts with \"a\" and ends with \"o\"\n",
        "\n",
        "Ans:\n",
        "SELECT * FROM customer WHERE first_name ILIKE 'a%o';\n",
        "\n",
        "Que 20: Get the films with pg and pg-13 rating using IN operator\n",
        "\n",
        "Ans:\n",
        "SELECT * FROM film WHERE rating IN ('PG', 'PG-13');\n",
        "\n",
        "Que 21: Get the films with length between 50 to 100 using BETWEEN operator\n",
        "\n",
        "Ans:\n",
        "SELECT * FROM film WHERE length BETWEEN 50 AND 100;\n",
        "\n",
        "Que 22: Get the top 50 actors using LIMIT operator\n",
        "\n",
        "Ans:\n",
        "SELECT * FROM actor LIMIT 50;\n",
        "\n",
        "Que 23: Get the distinct film ids from inventory table\n",
        "\n",
        "Ans:\n",
        "SELECT DISTINCT film_id FROM inventory;"
      ],
      "metadata": {
        "id": "DjiCxxGgFnOc"
      }
    },
    {
      "cell_type": "markdown",
      "source": [
        "🔸 **Functions (Aggregate & String)**\n",
        "\n",
        "Que 1: Retrieve the total number of rentals made in the Sakila database\n",
        "\n",
        "Ans:\n",
        "Iska purpose total rental transactions count karna hota hai. Yeh hume batata hai ki Sakila database me kitni baar rentals ki gayi hain, jisse business activity ka idea milta hai.\n",
        "\n",
        "Que 2: Find the average rental duration (in days) of movies rented from the Sakila database\n",
        "\n",
        "Ans:\n",
        "Is query ka use rental_duration ka average nikalne ke liye hota hai. Isse pata chalta hai ki customers on average kitne dino tak movies rent pe le jaate hain.\n",
        "\n",
        "Que 3: Display the first name and last name of customers in uppercase\n",
        "\n",
        "Ans:\n",
        "Iska use tab hota hai jab hume data ko uniform format mein dikhana hota hai, jaise UI display ke liye. Uppercase mein names consistent dikhte hain.\n",
        "\n",
        "Que 4: Extract the month from the rental date and display it alongside the rental ID\n",
        "\n",
        "Ans:\n",
        "Rental date se month nikalne se humko seasonal ya monthly rental trends samajhne mein madad milti hai. Yeh business analysis ke liye kaafi useful hota hai.\n",
        "\n",
        "🔸 **GROUP BY**\n",
        "\n",
        "Que 5: Retrieve the count of rentals for each customer\n",
        "\n",
        "Ans:\n",
        "Yeh query batati hai ki har customer ne kitni baar rentals kiye. Isse hume customer activity aur engagement ka andaza hota hai.\n",
        "\n",
        "Que 6: Find the total revenue generated by each store\n",
        "\n",
        "Ans:\n",
        "Is query se pata chalta hai ki har store ne kitna paisa kamaaya hai. Iska use business decision-making aur performance evaluation mein hota hai.\n",
        "\n",
        "Que 7: Determine the total number of rentals for each category of movies\n",
        "\n",
        "Ans:\n",
        "Har movie category ke rental count se ye samajh aata hai ki kaunsi category zyada popular hai, jisse inventory aur marketing decisions mein help milti hai.\n",
        "\n",
        "Que 8: Find the average rental rate of movies in each language\n",
        "\n",
        "Ans:\n",
        "Yeh query batati hai ki har language category mein average rental rate kya hai. Isse language-wise pricing trend samajhne mein madad milti hai.\n",
        "\n",
        "🔸 **Joins**\n",
        "\n",
        "Que 9: Display the title of the movie, customer’s first name, and last name who rented it\n",
        "\n",
        "Ans:\n",
        "Is query ka use rental records ke basis par customer aur film ke details jod kar batane ke liye hota hai — jaise kisne kaunsi movie rent ki.\n",
        "\n",
        "Que 10: Retrieve the names of all actors who have appeared in the film \"Gone with the Wind\"\n",
        "\n",
        "Ans:\n",
        "Iska purpose ek specific film ke liye sabhi actors ke naam nikalna hota hai. Yeh film-actor relationship samajhne ke liye use hota hai.\n",
        "\n",
        "Que 11: Retrieve the customer names along with the total amount they've spent on rentals\n",
        "\n",
        "Ans:\n",
        "Yeh query har customer ke total spending batati hai. Isse high-value customers identify kiye ja sakte hain for rewards ya targeting.\n",
        "\n",
        "Que 12: List the titles of movies rented by each customer in a particular city (e.g., 'London')\n",
        "\n",
        "Ans:\n",
        "Is query se hum location-specific rental preferences samajh sakte hain, jo local promotions aur inventory planning mein help karta hai."
      ],
      "metadata": {
        "id": "0wNbUvfXGKRZ"
      }
    }
  ]
}