{
  "nbformat": 4,
  "nbformat_minor": 0,
  "metadata": {
    "colab": {
      "provenance": [],
      "authorship_tag": "ABX9TyP7FICltRlYL+jLzKRVgXFs",
      "include_colab_link": true
    },
    "kernelspec": {
      "name": "python3",
      "display_name": "Python 3"
    },
    "language_info": {
      "name": "python"
    }
  },
  "cells": [
    {
      "cell_type": "markdown",
      "metadata": {
        "id": "view-in-github",
        "colab_type": "text"
      },
      "source": [
        "<a href=\"https://colab.research.google.com/github/kanika0216/python-Basics/blob/main/Decision_Tree.ipynb\" target=\"_parent\"><img src=\"https://colab.research.google.com/assets/colab-badge.svg\" alt=\"Open In Colab\"/></a>"
      ]
    },
    {
      "cell_type": "markdown",
      "source": [
        "                                            **Theoretical**"
      ],
      "metadata": {
        "id": "ss0ynsX9Aor_"
      }
    },
    {
      "cell_type": "markdown",
      "source": [
        "1. What is a Decision Tree, and how does it work?\n",
        "\n",
        "A Decision Tree is a flowchart-like structure used for classification or regression, where data is split based on feature values to reach a decision.\n",
        "\n",
        "2. What are impurity measures in Decision Trees?\n",
        "\n",
        "Impurity measures quantify how mixed the classes are at a node, guiding the best feature splits.\n",
        "\n",
        "3. What is the mathematical formula for Gini Impurity?\n",
        "\n",
        "Gini = 1 − ∑(pᵢ²), where pᵢ is the probability of class i at a node.\n",
        "\n",
        "4. What is the mathematical formula for Entropy?\n",
        "\n",
        "Entropy = −∑(pᵢ * log₂(pᵢ)), where pᵢ is the probability of class i.\n",
        "\n",
        "5. What is Information Gain, and how is it used in Decision Trees?\n",
        "\n",
        "Information Gain is the reduction in impurity after a split; it's used to choose the best feature at each node.\n",
        "\n",
        "6. What is the difference between Gini Impurity and Entropy?\n",
        "\n",
        "Both measure impurity, but Gini is faster to compute; Entropy is based on information theory and can be more precise.\n",
        "\n",
        "7. What is the mathematical explanation behind Decision Trees?\n",
        "\n",
        "They use recursive binary splitting by minimizing impurity (Gini/Entropy) and selecting optimal features.\n",
        "\n",
        "8. What is Pre-Pruning in Decision Trees?\n",
        "\n",
        "Pre-pruning stops tree growth early based on conditions like max depth or min samples per node.\n",
        "\n",
        "9. What is Post-Pruning in Decision Trees?\n",
        "\n",
        "Post-pruning grows the full tree first, then trims nodes that don't improve accuracy on validation data.\n",
        "\n",
        "10. What is the difference between Pre-Pruning and Post-Pruning?\n",
        "\n",
        "Pre-pruning prevents overfitting during training; post-pruning removes overfitting after full growth.\n",
        "\n",
        "11. What is a Decision Tree Regressor?\n",
        "\n",
        "It’s a Decision Tree used for predicting continuous values by splitting data to minimize variance.\n",
        "\n",
        "12. What are the advantages and disadvantages of Decision Trees?\n",
        "\n",
        "They're easy to interpret and handle all data types, but can overfit and be sensitive to small data changes.\n",
        "\n",
        "13. How does a Decision Tree handle missing values?\n",
        "\n",
        "It can use surrogate splits or ignore missing values during training depending on the implementation.\n",
        "\n",
        "14. How does a Decision Tree handle categorical features?\n",
        "\n",
        "It splits based on different category combinations or uses one-vs-rest strategies.\n",
        "\n",
        "15. What are some real-world applications of Decision Trees?\n",
        "\n",
        "Used in medical diagnosis, credit scoring, fraud detection, customer segmentation, and more.\n",
        "\n",
        "\n",
        "\n",
        "\n",
        "\n",
        "\n",
        "\n",
        "\n"
      ],
      "metadata": {
        "id": "46AYWQHjA4sk"
      }
    },
    {
      "cell_type": "markdown",
      "source": [
        "                                          **Practical**"
      ],
      "metadata": {
        "id": "zgQPmA6vCAs3"
      }
    },
    {
      "cell_type": "markdown",
      "source": [
        "16. Write a Python program to train a Decision Tree Classifier on the Iris dataset and print the model accuracy."
      ],
      "metadata": {
        "id": "BPWzJL6lCtHN"
      }
    },
    {
      "cell_type": "code",
      "source": [
        "from sklearn.datasets import load_iris\n",
        "from sklearn.tree import DecisionTreeClassifier\n",
        "from sklearn.model_selection import train_test_split\n",
        "from sklearn.metrics import accuracy_score\n",
        "\n",
        "X, y = load_iris(return_X_y=True)\n",
        "X_train, X_test, y_train, y_test = train_test_split(X, y, random_state=0)\n",
        "\n",
        "clf = DecisionTreeClassifier()\n",
        "clf.fit(X_train, y_train)\n",
        "y_pred = clf.predict(X_test)\n",
        "\n",
        "print(\"Accuracy:\", accuracy_score(y_test, y_pred))\n"
      ],
      "metadata": {
        "colab": {
          "base_uri": "https://localhost:8080/"
        },
        "id": "tCtn5upPCwu0",
        "outputId": "61e9ce40-57b9-4073-b754-05534c2085c7"
      },
      "execution_count": 12,
      "outputs": [
        {
          "output_type": "stream",
          "name": "stdout",
          "text": [
            "Accuracy: 0.9736842105263158\n"
          ]
        }
      ]
    },
    {
      "cell_type": "markdown",
      "source": [
        "17. Write a Python program to train a Decision Tree Classifier using Gini Impurity as the criterion and print the\n",
        "feature importances"
      ],
      "metadata": {
        "id": "s-9ySKkfC03h"
      }
    },
    {
      "cell_type": "code",
      "source": [
        "clf = DecisionTreeClassifier(criterion='gini')\n",
        "clf.fit(X_train, y_train)\n",
        "print(\"Feature importances:\", clf.feature_importances_)\n"
      ],
      "metadata": {
        "colab": {
          "base_uri": "https://localhost:8080/"
        },
        "id": "AkDPMRFxC5za",
        "outputId": "12d47f35-f6ed-435b-9490-6b9532548b05"
      },
      "execution_count": 13,
      "outputs": [
        {
          "output_type": "stream",
          "name": "stdout",
          "text": [
            "Feature importances: [0.         0.02014872 0.39927524 0.58057605]\n"
          ]
        }
      ]
    },
    {
      "cell_type": "markdown",
      "source": [
        "18. Write a Python program to train a Decision Tree Classifier using Entropy as the splitting criterion and print the\n",
        "model accuracy."
      ],
      "metadata": {
        "id": "gdwk9esBDC8c"
      }
    },
    {
      "cell_type": "code",
      "source": [
        "clf = DecisionTreeClassifier(criterion='entropy')\n",
        "clf.fit(X_train, y_train)\n",
        "y_pred = clf.predict(X_test)\n",
        "print(\"Accuracy (Entropy):\", accuracy_score(y_test, y_pred))\n"
      ],
      "metadata": {
        "id": "qtHOg85TDKMr",
        "colab": {
          "base_uri": "https://localhost:8080/"
        },
        "outputId": "38edfe85-ca63-46c9-9a6d-745a6a744e9e"
      },
      "execution_count": 14,
      "outputs": [
        {
          "output_type": "stream",
          "name": "stdout",
          "text": [
            "Accuracy (Entropy): 0.9736842105263158\n"
          ]
        }
      ]
    },
    {
      "cell_type": "markdown",
      "source": [
        "19. Write a Python program to train a Decision Tree Regressor on a housing dataset and evaluate using Mean\n",
        "Squared Error (MSE)."
      ],
      "metadata": {
        "id": "P_-_yV7nDNwN"
      }
    },
    {
      "cell_type": "code",
      "source": [
        "from sklearn.datasets import fetch_california_housing\n",
        "from sklearn.tree import DecisionTreeRegressor\n",
        "from sklearn.metrics import mean_squared_error\n",
        "\n",
        "X, y = fetch_california_housing(return_X_y=True)\n",
        "X_train, X_test, y_train, y_test = train_test_split(X, y, random_state=0)\n",
        "\n",
        "reg = DecisionTreeRegressor()\n",
        "reg.fit(X_train, y_train)\n",
        "y_pred = reg.predict(X_test)\n",
        "\n",
        "print(\"MSE:\", mean_squared_error(y_test, y_pred))\n"
      ],
      "metadata": {
        "id": "0ClxrbXMDRpW",
        "colab": {
          "base_uri": "https://localhost:8080/"
        },
        "outputId": "6bfd7e51-a0ae-4162-c354-e3d73b748248"
      },
      "execution_count": 15,
      "outputs": [
        {
          "output_type": "stream",
          "name": "stdout",
          "text": [
            "MSE: 0.539298626616221\n"
          ]
        }
      ]
    },
    {
      "cell_type": "markdown",
      "source": [
        "20. Write a Python program to train a Decision Tree Classifier and visualize the tree using graphviz."
      ],
      "metadata": {
        "id": "Y0Y-2hnZDUXf"
      }
    },
    {
      "cell_type": "code",
      "source": [
        "from sklearn.datasets import load_iris\n",
        "from sklearn.tree import DecisionTreeClassifier, export_graphviz\n",
        "import graphviz\n",
        "\n",
        "iris = load_iris()\n",
        "X = iris.data\n",
        "y = iris.target\n",
        "\n",
        "clf = DecisionTreeClassifier(random_state=42)\n",
        "clf.fit(X, y)\n",
        "\n",
        "dot_data = export_graphviz(clf, out_file=None,\n",
        "                           feature_names=iris.feature_names,\n",
        "                           class_names=iris.target_names,\n",
        "                           filled=True, rounded=True,\n",
        "                           special_characters=True)\n",
        "\n",
        "graph = graphviz.Source(dot_data)\n",
        "graph.render(\"decision_tree\")\n",
        "graph.view()\n"
      ],
      "metadata": {
        "colab": {
          "base_uri": "https://localhost:8080/",
          "height": 36
        },
        "id": "ROKmj7aiTLgE",
        "outputId": "eac2fe2c-c17f-471b-87f9-7d5ce03706c4"
      },
      "execution_count": 16,
      "outputs": [
        {
          "output_type": "execute_result",
          "data": {
            "text/plain": [
              "'decision_tree.pdf'"
            ],
            "application/vnd.google.colaboratory.intrinsic+json": {
              "type": "string"
            }
          },
          "metadata": {},
          "execution_count": 16
        }
      ]
    },
    {
      "cell_type": "markdown",
      "source": [
        "21. Write a Python program to train a Decision Tree Classifier with a maximum depth of 3 and compare its\n",
        "accuracy with a fully grown tree."
      ],
      "metadata": {
        "id": "wFClMEkCDaLZ"
      }
    },
    {
      "cell_type": "code",
      "source": [
        "from sklearn.datasets import load_iris\n",
        "from sklearn.model_selection import train_test_split\n",
        "from sklearn.tree import DecisionTreeClassifier\n",
        "from sklearn.metrics import accuracy_score\n",
        "\n",
        "iris = load_iris()\n",
        "X = iris.data\n",
        "y = iris.target\n",
        "\n",
        "X_train, X_test, y_train, y_test = train_test_split(X, y, test_size=0.3, random_state=42)\n",
        "\n",
        "clf_limited = DecisionTreeClassifier(max_depth=3, random_state=42)\n",
        "clf_limited.fit(X_train, y_train)\n",
        "y_pred_limited = clf_limited.predict(X_test)\n",
        "accuracy_limited = accuracy_score(y_test, y_pred_limited)\n",
        "\n",
        "clf_full = DecisionTreeClassifier(random_state=42)\n",
        "clf_full.fit(X_train, y_train)\n",
        "y_pred_full = clf_full.predict(X_test)\n",
        "accuracy_full = accuracy_score(y_test, y_pred_full)\n",
        "\n",
        "print(\"Accuracy with max depth = 3:\", accuracy_limited)\n",
        "print(\"Accuracy with fully grown tree:\", accuracy_full)\n"
      ],
      "metadata": {
        "id": "kyk-O08mDd4Z",
        "colab": {
          "base_uri": "https://localhost:8080/"
        },
        "outputId": "1f7eb4cc-6a2e-417c-97dc-bfaed34b2dfe"
      },
      "execution_count": 27,
      "outputs": [
        {
          "output_type": "stream",
          "name": "stdout",
          "text": [
            "Accuracy with max depth = 3: 1.0\n",
            "Accuracy with fully grown tree: 1.0\n"
          ]
        }
      ]
    },
    {
      "cell_type": "markdown",
      "source": [
        "22. Write a Python program to train a Decision Tree Classifier using min_samples_split=5 and compare its\n",
        "accuracy with a default tree."
      ],
      "metadata": {
        "id": "F3LZ6hcSDlMB"
      }
    },
    {
      "cell_type": "code",
      "source": [
        "from sklearn.datasets import load_iris\n",
        "from sklearn.model_selection import train_test_split\n",
        "from sklearn.tree import DecisionTreeClassifier\n",
        "from sklearn.metrics import accuracy_score\n",
        "\n",
        "iris = load_iris()\n",
        "X = iris.data\n",
        "y = iris.target\n",
        "\n",
        "X_train, X_test, y_train, y_test = train_test_split(X, y, test_size=0.3, random_state=42)\n",
        "\n",
        "clf_custom = DecisionTreeClassifier(min_samples_split=5, random_state=42)\n",
        "clf_custom.fit(X_train, y_train)\n",
        "y_pred_custom = clf_custom.predict(X_test)\n",
        "accuracy_custom = accuracy_score(y_test, y_pred_custom)\n",
        "\n",
        "clf_default = DecisionTreeClassifier(random_state=42)\n",
        "clf_default.fit(X_train, y_train)\n",
        "y_pred_default = clf_default.predict(X_test)\n",
        "accuracy_default = accuracy_score(y_test, y_pred_default)\n",
        "\n",
        "print(\"Accuracy with min_samples_split=5:\", accuracy_custom)\n",
        "print(\"Accuracy with default tree:\", accuracy_default)\n"
      ],
      "metadata": {
        "id": "8g3jlbVBDoer",
        "colab": {
          "base_uri": "https://localhost:8080/"
        },
        "outputId": "3e0d38ae-ce2e-43c3-dcb6-ee49173978d4"
      },
      "execution_count": 28,
      "outputs": [
        {
          "output_type": "stream",
          "name": "stdout",
          "text": [
            "Accuracy with min_samples_split=5: 1.0\n",
            "Accuracy with default tree: 1.0\n"
          ]
        }
      ]
    },
    {
      "cell_type": "markdown",
      "source": [
        "23. Write a Python program to apply feature scaling before training a Decision Tree Classifier and compare its\n",
        "accuracy with unscaled data."
      ],
      "metadata": {
        "id": "ThsXn2sKDq0O"
      }
    },
    {
      "cell_type": "code",
      "source": [
        "from sklearn.datasets import load_iris\n",
        "from sklearn.model_selection import train_test_split\n",
        "from sklearn.preprocessing import StandardScaler\n",
        "from sklearn.tree import DecisionTreeClassifier\n",
        "from sklearn.metrics import accuracy_score\n",
        "\n",
        "iris = load_iris()\n",
        "X = iris.data\n",
        "y = iris.target\n",
        "\n",
        "X_train, X_test, y_train, y_test = train_test_split(X, y, test_size=0.3, random_state=42)\n",
        "\n",
        "scaler = StandardScaler()\n",
        "X_train_scaled = scaler.fit_transform(X_train)\n",
        "X_test_scaled = scaler.transform(X_test)\n",
        "\n",
        "clf_scaled = DecisionTreeClassifier(random_state=42)\n",
        "clf_scaled.fit(X_train_scaled, y_train)\n",
        "y_pred_scaled = clf_scaled.predict(X_test_scaled)\n",
        "accuracy_scaled = accuracy_score(y_test, y_pred_scaled)\n",
        "\n",
        "clf_unscaled = DecisionTreeClassifier(random_state=42)\n",
        "clf_unscaled.fit(X_train, y_train)\n",
        "y_pred_unscaled = clf_unscaled.predict(X_test)\n",
        "accuracy_unscaled = accuracy_score(y_test, y_pred_unscaled)\n",
        "\n",
        "print(\"Accuracy with feature scaling:\", accuracy_scaled)\n",
        "print(\"Accuracy without feature scaling:\", accuracy_unscaled)\n"
      ],
      "metadata": {
        "id": "uIXhCqdvDvTL",
        "colab": {
          "base_uri": "https://localhost:8080/"
        },
        "outputId": "53856fe8-93d3-4387-cc1f-6a873d31216c"
      },
      "execution_count": 29,
      "outputs": [
        {
          "output_type": "stream",
          "name": "stdout",
          "text": [
            "Accuracy with feature scaling: 1.0\n",
            "Accuracy without feature scaling: 1.0\n"
          ]
        }
      ]
    },
    {
      "cell_type": "markdown",
      "source": [
        "24. Write a Python program to train a Decision Tree Classifier using One-vs-Rest (OvR) strategy for multiclass\n",
        "classification"
      ],
      "metadata": {
        "id": "2R-AixJxDx1h"
      }
    },
    {
      "cell_type": "code",
      "source": [
        "from sklearn.multiclass import OneVsRestClassifier\n",
        "\n",
        "ovr_clf = OneVsRestClassifier(DecisionTreeClassifier())\n",
        "ovr_clf.fit(X_train, y_train)\n",
        "print(\"OvR Accuracy:\", accuracy_score(y_test, ovr_clf.predict(X_test)))\n"
      ],
      "metadata": {
        "id": "-P0ECffhD2Ez",
        "colab": {
          "base_uri": "https://localhost:8080/"
        },
        "outputId": "f98139d0-6522-4d39-b0dd-378c29809a71"
      },
      "execution_count": 20,
      "outputs": [
        {
          "output_type": "stream",
          "name": "stdout",
          "text": [
            "OvR Accuracy: 0.9736842105263158\n"
          ]
        }
      ]
    },
    {
      "cell_type": "markdown",
      "source": [
        "25. Write a Python program to train a Decision Tree Classifier and display the feature importance scores."
      ],
      "metadata": {
        "id": "A4B56ZPlD5Ls"
      }
    },
    {
      "cell_type": "code",
      "source": [
        "clf = DecisionTreeClassifier()\n",
        "clf.fit(X_train, y_train)\n",
        "print(\"Feature Importances:\", clf.feature_importances_)\n"
      ],
      "metadata": {
        "colab": {
          "base_uri": "https://localhost:8080/"
        },
        "id": "2tRr4KXXD9tW",
        "outputId": "7486f805-fb81-41b3-8361-fafc02dea0ab"
      },
      "execution_count": 21,
      "outputs": [
        {
          "output_type": "stream",
          "name": "stdout",
          "text": [
            "Feature Importances: [0.         0.04029743 0.40530263 0.55439994]\n"
          ]
        }
      ]
    },
    {
      "cell_type": "markdown",
      "source": [
        "26. Write a Python program to train a Decision Tree Regressor with max_depth=5 and compare its performance\n",
        "with an unrestricted tree."
      ],
      "metadata": {
        "id": "EI7CjAYWEBzh"
      }
    },
    {
      "cell_type": "code",
      "source": [
        "reg_small = DecisionTreeRegressor(max_depth=5)\n",
        "reg_small.fit(X_train, y_train)\n",
        "reg_full = DecisionTreeRegressor()\n",
        "reg_full.fit(X_train, y_train)\n",
        "\n",
        "print(\"MSE (Depth 5):\", mean_squared_error(y_test, reg_small.predict(X_test)))\n",
        "print(\"MSE (Full):\", mean_squared_error(y_test, reg_full.predict(X_test)))\n"
      ],
      "metadata": {
        "id": "7EsUWgYrEGn6",
        "colab": {
          "base_uri": "https://localhost:8080/"
        },
        "outputId": "03f780f3-ed3b-4ebe-94d5-cc110a1a66e9"
      },
      "execution_count": 22,
      "outputs": [
        {
          "output_type": "stream",
          "name": "stdout",
          "text": [
            "MSE (Depth 5): 0.02631578947368421\n",
            "MSE (Full): 0.02631578947368421\n"
          ]
        }
      ]
    },
    {
      "cell_type": "markdown",
      "source": [
        "27. Write a Python program to train a Decision Tree Classifier, apply Cost Complexity Pruning (CCP), and\n",
        "visualize its effect on accuracy."
      ],
      "metadata": {
        "id": "dcfPit97EOQt"
      }
    },
    {
      "cell_type": "code",
      "source": [
        "from sklearn.datasets import load_iris\n",
        "from sklearn.model_selection import train_test_split\n",
        "from sklearn.tree import DecisionTreeClassifier\n",
        "import matplotlib.pyplot as plt\n",
        "\n",
        "X, y = load_iris(return_X_y=True)\n",
        "X_train, X_test, y_train, y_test = train_test_split(X, y, test_size=0.3, random_state=42)\n",
        "\n",
        "path = DecisionTreeClassifier().cost_complexity_pruning_path(X_train, y_train)\n",
        "alphas = path.ccp_alphas\n",
        "\n",
        "acc_train = []\n",
        "acc_test = []\n",
        "\n",
        "for a in alphas:\n",
        "    clf = DecisionTreeClassifier(ccp_alpha=a, random_state=42).fit(X_train, y_train)\n",
        "    acc_train.append(clf.score(X_train, y_train))\n",
        "    acc_test.append(clf.score(X_test, y_test))\n",
        "\n",
        "plt.plot(alphas, acc_train, label=\"Train\")\n",
        "plt.plot(alphas, acc_test, label=\"Test\")\n",
        "plt.xlabel(\"ccp_alpha\")\n",
        "plt.ylabel(\"Accuracy\")\n",
        "plt.legend()\n",
        "plt.show()\n",
        "\n"
      ],
      "metadata": {
        "id": "KCHyyghvEzAp",
        "colab": {
          "base_uri": "https://localhost:8080/",
          "height": 450
        },
        "outputId": "7ef1a3fa-8a92-4405-b191-0e627b0226b0"
      },
      "execution_count": 31,
      "outputs": [
        {
          "output_type": "display_data",
          "data": {
            "text/plain": [
              "<Figure size 640x480 with 1 Axes>"
            ],
            "image/png": "[encoded data removed]"
          },
          "metadata": {}
        }
      ]
    },
    {
      "cell_type": "markdown",
      "source": [
        "28. Write a Python program to train a Decision Tree Classifier and evaluate its performance using Precision,\n",
        "Recall, and F1-Score"
      ],
      "metadata": {
        "id": "JMToFBJFET2V"
      }
    },
    {
      "cell_type": "code",
      "source": [
        "from sklearn.metrics import precision_score, recall_score, f1_score\n",
        "\n",
        "y_pred = clf.predict(X_test)\n",
        "print(\"Precision:\", precision_score(y_test, y_pred, average='macro'))\n",
        "print(\"Recall:\", recall_score(y_test, y_pred, average='macro'))\n",
        "print(\"F1 Score:\", f1_score(y_test, y_pred, average='macro'))\n"
      ],
      "metadata": {
        "id": "UhnCmDYkEySM",
        "colab": {
          "base_uri": "https://localhost:8080/"
        },
        "outputId": "1b93b693-4d00-4f17-dcaa-1d920b2e6956"
      },
      "execution_count": 24,
      "outputs": [
        {
          "output_type": "stream",
          "name": "stdout",
          "text": [
            "Precision: 0.9666666666666667\n",
            "Recall: 0.9791666666666666\n",
            "F1 Score: 0.9717034521788341\n"
          ]
        }
      ]
    },
    {
      "cell_type": "markdown",
      "source": [
        "29. Write a Python program to train a Decision Tree Classifier and visualize the confusion matrix using seaborn."
      ],
      "metadata": {
        "id": "9mR7C6ODE5aB"
      }
    },
    {
      "cell_type": "code",
      "source": [
        "import seaborn as sns\n",
        "import matplotlib.pyplot as plt\n",
        "from sklearn.metrics import confusion_matrix\n",
        "\n",
        "cm = confusion_matrix(y_test, y_pred)\n",
        "sns.heatmap(cm, annot=True, cmap=\"Blues\", xticklabels=load_iris().target_names, yticklabels=load_iris().target_names)\n",
        "plt.xlabel(\"Predicted\")\n",
        "plt.ylabel(\"Actual\")\n",
        "plt.title(\"Confusion Matrix\")\n",
        "plt.show()\n"
      ],
      "metadata": {
        "id": "vi1JzRJcE9Jc",
        "colab": {
          "base_uri": "https://localhost:8080/",
          "height": 472
        },
        "outputId": "69a5ee3e-cf1a-4e45-a024-05808315be3e"
      },
      "execution_count": 25,
      "outputs": [
        {
          "output_type": "display_data",
          "data": {
            "text/plain": [
              "<Figure size 640x480 with 2 Axes>"
            ],
            "image/png": "[encoded data removed]"
          },
          "metadata": {}
        }
      ]
    },
    {
      "cell_type": "markdown",
      "source": [
        "30. Write a Python program to train a Decision Tree Classifier and use GridSearchCV to find the optimal values\n",
        "for max_depth and min_samples_split."
      ],
      "metadata": {
        "id": "zgQg2J5xE_g7"
      }
    },
    {
      "cell_type": "code",
      "source": [
        "from sklearn.model_selection import GridSearchCV\n",
        "\n",
        "param_grid = {\n",
        "    'max_depth': [2, 3, 4, 5, None],\n",
        "    'min_samples_split': [2, 5, 10]\n",
        "}\n",
        "grid = GridSearchCV(DecisionTreeClassifier(), param_grid, cv=5)\n",
        "grid.fit(X_train, y_train)\n",
        "\n",
        "print(\"Best parameters:\", grid.best_params_)\n",
        "print(\"Best accuracy:\", grid.best_score_)\n"
      ],
      "metadata": {
        "id": "961Lf5dMFEqz",
        "colab": {
          "base_uri": "https://localhost:8080/"
        },
        "outputId": "723ae7c8-7d23-4a08-e2e1-7f53dcd8f31c"
      },
      "execution_count": 26,
      "outputs": [
        {
          "output_type": "stream",
          "name": "stdout",
          "text": [
            "Best parameters: {'max_depth': 3, 'min_samples_split': 2}\n",
            "Best accuracy: 0.9644268774703558\n"
          ]
        }
      ]
    }
  ]
}